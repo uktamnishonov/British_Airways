{
 "cells": [
  {
   "cell_type": "code",
   "execution_count": 13,
   "id": "initial_id",
   "metadata": {
    "ExecuteTime": {
     "end_time": "2024-02-20T08:34:52.955659Z",
     "start_time": "2024-02-20T08:34:52.941405Z"
    },
    "collapsed": true
   },
   "outputs": [],
   "source": [
    "import pandas as pd\n",
    "import numpy as np\n",
    "import matplotlib.pyplot as plt\n",
    "import seaborn as sns"
   ]
  },
  {
   "cell_type": "code",
   "execution_count": 73,
   "id": "da5366265493fee2",
   "metadata": {
    "ExecuteTime": {
     "end_time": "2024-02-20T08:57:48.735874Z",
     "start_time": "2024-02-20T08:57:48.711432Z"
    }
   },
   "outputs": [],
   "source": [
    "df = pd.read_csv('Data/reviews.csv')"
   ]
  },
  {
   "cell_type": "code",
   "execution_count": 74,
   "id": "bf5d79d88969ea2a",
   "metadata": {
    "ExecuteTime": {
     "end_time": "2024-02-20T08:58:24.386471Z",
     "start_time": "2024-02-20T08:58:24.370186Z"
    }
   },
   "outputs": [
    {
     "data": {
      "text/html": [
       "<div>\n",
       "<style scoped>\n",
       "    .dataframe tbody tr th:only-of-type {\n",
       "        vertical-align: middle;\n",
       "    }\n",
       "\n",
       "    .dataframe tbody tr th {\n",
       "        vertical-align: top;\n",
       "    }\n",
       "\n",
       "    .dataframe thead th {\n",
       "        text-align: right;\n",
       "    }\n",
       "</style>\n",
       "<table border=\"1\" class=\"dataframe\">\n",
       "  <thead>\n",
       "    <tr style=\"text-align: right;\">\n",
       "      <th></th>\n",
       "      <th>Unnamed: 0</th>\n",
       "      <th>reviews</th>\n",
       "    </tr>\n",
       "  </thead>\n",
       "  <tbody>\n",
       "    <tr>\n",
       "      <th>0</th>\n",
       "      <td>0</td>\n",
       "      <td>Not Verified |  Another case of reviewing Brit...</td>\n",
       "    </tr>\n",
       "    <tr>\n",
       "      <th>1</th>\n",
       "      <td>1</td>\n",
       "      <td>✅ Trip Verified | On the memorable day of Janu...</td>\n",
       "    </tr>\n",
       "    <tr>\n",
       "      <th>2</th>\n",
       "      <td>2</td>\n",
       "      <td>Not Verified | I did not actually get to fly w...</td>\n",
       "    </tr>\n",
       "    <tr>\n",
       "      <th>3</th>\n",
       "      <td>3</td>\n",
       "      <td>✅ Trip Verified | We had possibly the worse ch...</td>\n",
       "    </tr>\n",
       "    <tr>\n",
       "      <th>4</th>\n",
       "      <td>4</td>\n",
       "      <td>✅ Trip Verified |  I flew to LHR from ATH in C...</td>\n",
       "    </tr>\n",
       "  </tbody>\n",
       "</table>\n",
       "</div>"
      ],
      "text/plain": [
       "   Unnamed: 0                                            reviews\n",
       "0           0  Not Verified |  Another case of reviewing Brit...\n",
       "1           1  ✅ Trip Verified | On the memorable day of Janu...\n",
       "2           2  Not Verified | I did not actually get to fly w...\n",
       "3           3  ✅ Trip Verified | We had possibly the worse ch...\n",
       "4           4  ✅ Trip Verified |  I flew to LHR from ATH in C..."
      ]
     },
     "execution_count": 74,
     "metadata": {},
     "output_type": "execute_result"
    }
   ],
   "source": [
    "df.head(5)"
   ]
  },
  {
   "cell_type": "raw",
   "id": "230be4b63881425c",
   "metadata": {},
   "source": [
    "Seems like while saving the reviews to csv, the index column was also saved, so we need to drop that column."
   ]
  },
  {
   "cell_type": "code",
   "execution_count": 75,
   "id": "1380f7d8e0c3a714",
   "metadata": {
    "ExecuteTime": {
     "end_time": "2024-02-20T08:57:49.231329Z",
     "start_time": "2024-02-20T08:57:49.213088Z"
    }
   },
   "outputs": [],
   "source": [
    "df.drop('Unnamed: 0', axis=1, inplace=True)"
   ]
  },
  {
   "cell_type": "code",
   "execution_count": 76,
   "id": "586fcd617a332f95",
   "metadata": {
    "ExecuteTime": {
     "end_time": "2024-02-20T08:57:49.465559Z",
     "start_time": "2024-02-20T08:57:49.452639Z"
    }
   },
   "outputs": [
    {
     "name": "stdout",
     "output_type": "stream",
     "text": [
      "<class 'pandas.core.frame.DataFrame'>\n",
      "RangeIndex: 1000 entries, 0 to 999\n",
      "Data columns (total 1 columns):\n",
      " #   Column   Non-Null Count  Dtype \n",
      "---  ------   --------------  ----- \n",
      " 0   reviews  1000 non-null   object\n",
      "dtypes: object(1)\n",
      "memory usage: 7.9+ KB\n"
     ]
    }
   ],
   "source": [
    "df.info()"
   ]
  },
  {
   "cell_type": "code",
   "execution_count": null,
   "id": "f2c59cd4b623ee4a",
   "metadata": {
    "ExecuteTime": {
     "end_time": "2024-02-20T08:57:49.915693Z",
     "start_time": "2024-02-20T08:57:49.899061Z"
    }
   },
   "outputs": [],
   "source": []
  },
  {
   "cell_type": "code",
   "execution_count": 77,
   "id": "36f43e5db2b93a60",
   "metadata": {
    "ExecuteTime": {
     "end_time": "2024-02-20T08:57:50.334349Z",
     "start_time": "2024-02-20T08:57:50.315382Z"
    }
   },
   "outputs": [],
   "source": [
    "df['reviews'] = df['reviews'].astype(str)"
   ]
  },
  {
   "cell_type": "raw",
   "id": "a7dbd37216269dde",
   "metadata": {},
   "source": [
    "Now we only have the reviews"
   ]
  },
  {
   "cell_type": "code",
   "execution_count": null,
   "id": "6180b0a3dc9a3c5e",
   "metadata": {
    "ExecuteTime": {
     "end_time": "2024-02-20T08:57:51.235544Z",
     "start_time": "2024-02-20T08:57:51.220277Z"
    }
   },
   "outputs": [],
   "source": []
  },
  {
   "cell_type": "code",
   "execution_count": 78,
   "id": "5b3ad1a47fd3725d",
   "metadata": {
    "ExecuteTime": {
     "end_time": "2024-02-20T08:57:52.339128Z",
     "start_time": "2024-02-20T08:57:52.326227Z"
    }
   },
   "outputs": [],
   "source": [
    "df['reviews'] = df['reviews'].apply(lambda x: x.split('|')[1])"
   ]
  },
  {
   "cell_type": "code",
   "execution_count": 79,
   "id": "6f802a036fcda248",
   "metadata": {
    "ExecuteTime": {
     "end_time": "2024-02-20T08:58:08.229845Z",
     "start_time": "2024-02-20T08:58:08.211647Z"
    }
   },
   "outputs": [
    {
     "data": {
      "text/html": [
       "<div>\n",
       "<style scoped>\n",
       "    .dataframe tbody tr th:only-of-type {\n",
       "        vertical-align: middle;\n",
       "    }\n",
       "\n",
       "    .dataframe tbody tr th {\n",
       "        vertical-align: top;\n",
       "    }\n",
       "\n",
       "    .dataframe thead th {\n",
       "        text-align: right;\n",
       "    }\n",
       "</style>\n",
       "<table border=\"1\" class=\"dataframe\">\n",
       "  <thead>\n",
       "    <tr style=\"text-align: right;\">\n",
       "      <th></th>\n",
       "      <th>reviews</th>\n",
       "    </tr>\n",
       "  </thead>\n",
       "  <tbody>\n",
       "    <tr>\n",
       "      <th>0</th>\n",
       "      <td>Another case of reviewing British Airways fl...</td>\n",
       "    </tr>\n",
       "    <tr>\n",
       "      <th>1</th>\n",
       "      <td>On the memorable day of January 9th, my famil...</td>\n",
       "    </tr>\n",
       "    <tr>\n",
       "      <th>2</th>\n",
       "      <td>I did not actually get to fly with BA as they...</td>\n",
       "    </tr>\n",
       "    <tr>\n",
       "      <th>3</th>\n",
       "      <td>We had possibly the worse check-in experience...</td>\n",
       "    </tr>\n",
       "    <tr>\n",
       "      <th>4</th>\n",
       "      <td>I flew to LHR from ATH in Club Europe with B...</td>\n",
       "    </tr>\n",
       "  </tbody>\n",
       "</table>\n",
       "</div>"
      ],
      "text/plain": [
       "                                             reviews\n",
       "0    Another case of reviewing British Airways fl...\n",
       "1   On the memorable day of January 9th, my famil...\n",
       "2   I did not actually get to fly with BA as they...\n",
       "3   We had possibly the worse check-in experience...\n",
       "4    I flew to LHR from ATH in Club Europe with B..."
      ]
     },
     "execution_count": 79,
     "metadata": {},
     "output_type": "execute_result"
    }
   ],
   "source": [
    "df.head(5)"
   ]
  },
  {
   "cell_type": "markdown",
   "id": "168a0362",
   "metadata": {},
   "source": [
    "# Now it's time to Data Preprocessing\n",
    "Here are the steps\n",
    "1.Cleaning the text \n",
    "2.Tokenization\n",
    "3.Removing the stop words\n",
    "4.Lemmatization"
   ]
  },
  {
   "cell_type": "code",
   "execution_count": 80,
   "id": "63ecbe08",
   "metadata": {},
   "outputs": [],
   "source": [
    "# Step 1 Cleaning the text"
   ]
  },
  {
   "cell_type": "code",
   "execution_count": 81,
   "id": "7438eb5b",
   "metadata": {},
   "outputs": [
    {
     "data": {
      "text/html": [
       "<div>\n",
       "<style scoped>\n",
       "    .dataframe tbody tr th:only-of-type {\n",
       "        vertical-align: middle;\n",
       "    }\n",
       "\n",
       "    .dataframe tbody tr th {\n",
       "        vertical-align: top;\n",
       "    }\n",
       "\n",
       "    .dataframe thead th {\n",
       "        text-align: right;\n",
       "    }\n",
       "</style>\n",
       "<table border=\"1\" class=\"dataframe\">\n",
       "  <thead>\n",
       "    <tr style=\"text-align: right;\">\n",
       "      <th></th>\n",
       "      <th>reviews</th>\n",
       "      <th>Clean reviews</th>\n",
       "    </tr>\n",
       "  </thead>\n",
       "  <tbody>\n",
       "    <tr>\n",
       "      <th>0</th>\n",
       "      <td>Another case of reviewing British Airways fl...</td>\n",
       "      <td>Another case of reviewing British Airways fl...</td>\n",
       "    </tr>\n",
       "    <tr>\n",
       "      <th>1</th>\n",
       "      <td>On the memorable day of January 9th, my famil...</td>\n",
       "      <td>On the memorable day of January 9th  my famil...</td>\n",
       "    </tr>\n",
       "    <tr>\n",
       "      <th>2</th>\n",
       "      <td>I did not actually get to fly with BA as they...</td>\n",
       "      <td>I did not actually get to fly with BA as they...</td>\n",
       "    </tr>\n",
       "    <tr>\n",
       "      <th>3</th>\n",
       "      <td>We had possibly the worse check-in experience...</td>\n",
       "      <td>We had possibly the worse check in experience...</td>\n",
       "    </tr>\n",
       "    <tr>\n",
       "      <th>4</th>\n",
       "      <td>I flew to LHR from ATH in Club Europe with B...</td>\n",
       "      <td>I flew to LHR from ATH in Club Europe with B...</td>\n",
       "    </tr>\n",
       "  </tbody>\n",
       "</table>\n",
       "</div>"
      ],
      "text/plain": [
       "                                             reviews  \\\n",
       "0    Another case of reviewing British Airways fl...   \n",
       "1   On the memorable day of January 9th, my famil...   \n",
       "2   I did not actually get to fly with BA as they...   \n",
       "3   We had possibly the worse check-in experience...   \n",
       "4    I flew to LHR from ATH in Club Europe with B...   \n",
       "\n",
       "                                       Clean reviews  \n",
       "0    Another case of reviewing British Airways fl...  \n",
       "1   On the memorable day of January 9th  my famil...  \n",
       "2   I did not actually get to fly with BA as they...  \n",
       "3   We had possibly the worse check in experience...  \n",
       "4    I flew to LHR from ATH in Club Europe with B...  "
      ]
     },
     "execution_count": 81,
     "metadata": {},
     "output_type": "execute_result"
    }
   ],
   "source": [
    "import re \n",
    "def clean(text):\n",
    "    text = re.sub('[^\\w\\s]',' ',str(text))\n",
    "    return text\n",
    "\n",
    "df['Clean reviews'] = df['reviews'].apply(clean)\n",
    "df.head()"
   ]
  },
  {
   "cell_type": "code",
   "execution_count": 82,
   "id": "3fc8196e",
   "metadata": {},
   "outputs": [],
   "source": [
    "# Step 2 Tokenization"
   ]
  },
  {
   "cell_type": "code",
   "execution_count": 83,
   "id": "0e4ccfea",
   "metadata": {},
   "outputs": [
    {
     "name": "stderr",
     "output_type": "stream",
     "text": [
      "[nltk_data] Downloading package punkt to\n",
      "[nltk_data]     /Users/uktamnishonov/nltk_data...\n",
      "[nltk_data]   Package punkt is already up-to-date!\n",
      "[nltk_data] Downloading package wordnet to\n",
      "[nltk_data]     /Users/uktamnishonov/nltk_data...\n",
      "[nltk_data]   Package wordnet is already up-to-date!\n"
     ]
    },
    {
     "data": {
      "text/plain": [
       "True"
      ]
     },
     "execution_count": 83,
     "metadata": {},
     "output_type": "execute_result"
    }
   ],
   "source": [
    "import nltk\n",
    "nltk.download('punkt')\n",
    "nltk.download('wordnet')"
   ]
  },
  {
   "cell_type": "code",
   "execution_count": 84,
   "id": "5a3b31d8",
   "metadata": {
    "ExecuteTime": {
     "end_time": "2024-02-20T09:25:41.666884Z",
     "start_time": "2024-02-20T09:25:41.113648Z"
    }
   },
   "outputs": [],
   "source": [
    "def tokenize(text):\n",
    "    return nltk.word_tokenize(text)\n",
    "\n",
    "df['Tokenized reviews'] = df['Clean reviews'].apply(tokenize)"
   ]
  },
  {
   "cell_type": "code",
   "execution_count": 85,
   "id": "45055d0e",
   "metadata": {
    "ExecuteTime": {
     "end_time": "2024-02-20T09:25:42.814587Z",
     "start_time": "2024-02-20T09:25:42.804401Z"
    }
   },
   "outputs": [
    {
     "data": {
      "text/plain": "                                             reviews  \\\n0    Another case of reviewing British Airways fl...   \n1   On the memorable day of January 9th, my famil...   \n2   I did not actually get to fly with BA as they...   \n3   We had possibly the worse check-in experience...   \n4    I flew to LHR from ATH in Club Europe with B...   \n\n                                       Clean reviews  \\\n0    Another case of reviewing British Airways fl...   \n1   On the memorable day of January 9th  my famil...   \n2   I did not actually get to fly with BA as they...   \n3   We had possibly the worse check in experience...   \n4    I flew to LHR from ATH in Club Europe with B...   \n\n                                   Tokenized reviews  \n0  [Another, case, of, reviewing, British, Airway...  \n1  [On, the, memorable, day, of, January, 9th, my...  \n2  [I, did, not, actually, get, to, fly, with, BA...  \n3  [We, had, possibly, the, worse, check, in, exp...  \n4  [I, flew, to, LHR, from, ATH, in, Club, Europe...  ",
      "text/html": "<div>\n<style scoped>\n    .dataframe tbody tr th:only-of-type {\n        vertical-align: middle;\n    }\n\n    .dataframe tbody tr th {\n        vertical-align: top;\n    }\n\n    .dataframe thead th {\n        text-align: right;\n    }\n</style>\n<table border=\"1\" class=\"dataframe\">\n  <thead>\n    <tr style=\"text-align: right;\">\n      <th></th>\n      <th>reviews</th>\n      <th>Clean reviews</th>\n      <th>Tokenized reviews</th>\n    </tr>\n  </thead>\n  <tbody>\n    <tr>\n      <th>0</th>\n      <td>Another case of reviewing British Airways fl...</td>\n      <td>Another case of reviewing British Airways fl...</td>\n      <td>[Another, case, of, reviewing, British, Airway...</td>\n    </tr>\n    <tr>\n      <th>1</th>\n      <td>On the memorable day of January 9th, my famil...</td>\n      <td>On the memorable day of January 9th  my famil...</td>\n      <td>[On, the, memorable, day, of, January, 9th, my...</td>\n    </tr>\n    <tr>\n      <th>2</th>\n      <td>I did not actually get to fly with BA as they...</td>\n      <td>I did not actually get to fly with BA as they...</td>\n      <td>[I, did, not, actually, get, to, fly, with, BA...</td>\n    </tr>\n    <tr>\n      <th>3</th>\n      <td>We had possibly the worse check-in experience...</td>\n      <td>We had possibly the worse check in experience...</td>\n      <td>[We, had, possibly, the, worse, check, in, exp...</td>\n    </tr>\n    <tr>\n      <th>4</th>\n      <td>I flew to LHR from ATH in Club Europe with B...</td>\n      <td>I flew to LHR from ATH in Club Europe with B...</td>\n      <td>[I, flew, to, LHR, from, ATH, in, Club, Europe...</td>\n    </tr>\n  </tbody>\n</table>\n</div>"
     },
     "execution_count": 85,
     "metadata": {},
     "output_type": "execute_result"
    }
   ],
   "source": [
    "df.head()"
   ]
  },
  {
   "cell_type": "code",
   "execution_count": 96,
   "outputs": [],
   "source": [
    "# change the tokenized reviews to lower case so that we can remove the stop words\n",
    "def lower_case(text):\n",
    "    return [word.lower() for word in text]\n",
    "\n",
    "df['Tokenized reviews'] = df['Tokenized reviews'].apply(lower_case)"
   ],
   "metadata": {
    "collapsed": false,
    "ExecuteTime": {
     "end_time": "2024-02-20T09:38:40.204075Z",
     "start_time": "2024-02-20T09:38:40.187994Z"
    }
   },
   "id": "192b94cf1febbcc3"
  },
  {
   "cell_type": "code",
   "execution_count": 97,
   "id": "5f8097ee",
   "metadata": {
    "ExecuteTime": {
     "end_time": "2024-02-20T09:38:41.181852Z",
     "start_time": "2024-02-20T09:38:41.161538Z"
    }
   },
   "outputs": [],
   "source": [
    "# Step 3 Removing the stop words "
   ]
  },
  {
   "cell_type": "code",
   "execution_count": 98,
   "outputs": [
    {
     "name": "stdout",
     "output_type": "stream",
     "text": [
      "['i', 'me', 'my', 'myself', 'we', 'our', 'ours', 'ourselves', 'you', \"you're\", \"you've\", \"you'll\", \"you'd\", 'your', 'yours', 'yourself', 'yourselves', 'he', 'him', 'his', 'himself', 'she', \"she's\", 'her', 'hers', 'herself', 'it', \"it's\", 'its', 'itself', 'they', 'them', 'their', 'theirs', 'themselves', 'what', 'which', 'who', 'whom', 'this', 'that', \"that'll\", 'these', 'those', 'am', 'is', 'are', 'was', 'were', 'be', 'been', 'being', 'have', 'has', 'had', 'having', 'do', 'does', 'did', 'doing', 'a', 'an', 'the', 'and', 'but', 'if', 'or', 'because', 'as', 'until', 'while', 'of', 'at', 'by', 'for', 'with', 'about', 'against', 'between', 'into', 'through', 'during', 'before', 'after', 'above', 'below', 'to', 'from', 'up', 'down', 'in', 'out', 'on', 'off', 'over', 'under', 'again', 'further', 'then', 'once', 'here', 'there', 'when', 'where', 'why', 'how', 'all', 'any', 'both', 'each', 'few', 'more', 'most', 'other', 'some', 'such', 'no', 'nor', 'not', 'only', 'own', 'same', 'so', 'than', 'too', 'very', 's', 't', 'can', 'will', 'just', 'don', \"don't\", 'should', \"should've\", 'now', 'd', 'll', 'm', 'o', 're', 've', 'y', 'ain', 'aren', \"aren't\", 'couldn', \"couldn't\", 'didn', \"didn't\", 'doesn', \"doesn't\", 'hadn', \"hadn't\", 'hasn', \"hasn't\", 'haven', \"haven't\", 'isn', \"isn't\", 'ma', 'mightn', \"mightn't\", 'mustn', \"mustn't\", 'needn', \"needn't\", 'shan', \"shan't\", 'shouldn', \"shouldn't\", 'wasn', \"wasn't\", 'weren', \"weren't\", 'won', \"won't\", 'wouldn', \"wouldn't\"]\n"
     ]
    },
    {
     "name": "stderr",
     "output_type": "stream",
     "text": [
      "[nltk_data] Downloading package stopwords to\n",
      "[nltk_data]     /Users/uktamnishonov/nltk_data...\n",
      "[nltk_data]   Package stopwords is already up-to-date!\n"
     ]
    },
    {
     "ename": "TypeError",
     "evalue": "list.append() takes exactly one argument (105 given)",
     "output_type": "error",
     "traceback": [
      "\u001B[0;31m---------------------------------------------------------------------------\u001B[0m",
      "\u001B[0;31mTypeError\u001B[0m                                 Traceback (most recent call last)",
      "Cell \u001B[0;32mIn[98], line 6\u001B[0m\n\u001B[1;32m      4\u001B[0m stop_words \u001B[38;5;241m=\u001B[39m stopwords\u001B[38;5;241m.\u001B[39mwords(\u001B[38;5;124m'\u001B[39m\u001B[38;5;124menglish\u001B[39m\u001B[38;5;124m'\u001B[39m)\n\u001B[1;32m      5\u001B[0m \u001B[38;5;28mprint\u001B[39m(stop_words)\n\u001B[0;32m----> 6\u001B[0m stop_words\u001B[38;5;241m.\u001B[39mappend(\u001B[38;5;124m'\u001B[39m\u001B[38;5;124mI\u001B[39m\u001B[38;5;124m'\u001B[39m,\u001B[38;5;124m'\u001B[39m\u001B[38;5;124mOne\u001B[39m\u001B[38;5;124m'\u001B[39m,\u001B[38;5;124m'\u001B[39m\u001B[38;5;124mThe\u001B[39m\u001B[38;5;124m'\u001B[39m,\u001B[38;5;124m'\u001B[39m\u001B[38;5;124mIt\u001B[39m\u001B[38;5;124m'\u001B[39m,\u001B[38;5;124m'\u001B[39m\u001B[38;5;124mThis\u001B[39m\u001B[38;5;124m'\u001B[39m,\u001B[38;5;124m'\u001B[39m\u001B[38;5;124mThat\u001B[39m\u001B[38;5;124m'\u001B[39m,\u001B[38;5;124m'\u001B[39m\u001B[38;5;124mWe\u001B[39m\u001B[38;5;124m'\u001B[39m,\u001B[38;5;124m'\u001B[39m\u001B[38;5;124mYou\u001B[39m\u001B[38;5;124m'\u001B[39m,\u001B[38;5;124m'\u001B[39m\u001B[38;5;124mThey\u001B[39m\u001B[38;5;124m'\u001B[39m,\u001B[38;5;124m'\u001B[39m\u001B[38;5;124mHe\u001B[39m\u001B[38;5;124m'\u001B[39m,\u001B[38;5;124m'\u001B[39m\u001B[38;5;124mShe\u001B[39m\u001B[38;5;124m'\u001B[39m,\u001B[38;5;124m'\u001B[39m\u001B[38;5;124mIt\u001B[39m\u001B[38;5;124m'\u001B[39m,\u001B[38;5;124m'\u001B[39m\u001B[38;5;124mWe\u001B[39m\u001B[38;5;124m'\u001B[39m,\u001B[38;5;124m'\u001B[39m\u001B[38;5;124mThey\u001B[39m\u001B[38;5;124m'\u001B[39m,\u001B[38;5;124m'\u001B[39m\u001B[38;5;124mOne\u001B[39m\u001B[38;5;124m'\u001B[39m,\u001B[38;5;124m'\u001B[39m\u001B[38;5;124mThe\u001B[39m\u001B[38;5;124m'\u001B[39m,\u001B[38;5;124m'\u001B[39m\u001B[38;5;124mA\u001B[39m\u001B[38;5;124m'\u001B[39m,\u001B[38;5;124m'\u001B[39m\u001B[38;5;124mAn\u001B[39m\u001B[38;5;124m'\u001B[39m,\u001B[38;5;124m'\u001B[39m\u001B[38;5;124mAnd\u001B[39m\u001B[38;5;124m'\u001B[39m,\u001B[38;5;124m'\u001B[39m\u001B[38;5;124mBut\u001B[39m\u001B[38;5;124m'\u001B[39m,\u001B[38;5;124m'\u001B[39m\u001B[38;5;124mOr\u001B[39m\u001B[38;5;124m'\u001B[39m,\u001B[38;5;124m'\u001B[39m\u001B[38;5;124mIf\u001B[39m\u001B[38;5;124m'\u001B[39m,\u001B[38;5;124m'\u001B[39m\u001B[38;5;124mUnless\u001B[39m\u001B[38;5;124m'\u001B[39m,\u001B[38;5;124m'\u001B[39m\u001B[38;5;124mUntil\u001B[39m\u001B[38;5;124m'\u001B[39m,\u001B[38;5;124m'\u001B[39m\u001B[38;5;124mWhile\u001B[39m\u001B[38;5;124m'\u001B[39m,\u001B[38;5;124m'\u001B[39m\u001B[38;5;124mAs\u001B[39m\u001B[38;5;124m'\u001B[39m,\u001B[38;5;124m'\u001B[39m\u001B[38;5;124mBecause\u001B[39m\u001B[38;5;124m'\u001B[39m,\u001B[38;5;124m'\u001B[39m\u001B[38;5;124mSince\u001B[39m\u001B[38;5;124m'\u001B[39m,\u001B[38;5;124m'\u001B[39m\u001B[38;5;124mSo\u001B[39m\u001B[38;5;124m'\u001B[39m,\u001B[38;5;124m'\u001B[39m\u001B[38;5;124mThough\u001B[39m\u001B[38;5;124m'\u001B[39m,\u001B[38;5;124m'\u001B[39m\u001B[38;5;124mAlthough\u001B[39m\u001B[38;5;124m'\u001B[39m,\u001B[38;5;124m'\u001B[39m\u001B[38;5;124mEven\u001B[39m\u001B[38;5;124m'\u001B[39m,\u001B[38;5;124m'\u001B[39m\u001B[38;5;124mIf\u001B[39m\u001B[38;5;124m'\u001B[39m,\u001B[38;5;124m'\u001B[39m\u001B[38;5;124mOnce\u001B[39m\u001B[38;5;124m'\u001B[39m,\u001B[38;5;124m'\u001B[39m\u001B[38;5;124mUnless\u001B[39m\u001B[38;5;124m'\u001B[39m,\u001B[38;5;124m'\u001B[39m\u001B[38;5;124mUntil\u001B[39m\u001B[38;5;124m'\u001B[39m,\u001B[38;5;124m'\u001B[39m\u001B[38;5;124mWhen\u001B[39m\u001B[38;5;124m'\u001B[39m,\u001B[38;5;124m'\u001B[39m\u001B[38;5;124mWhenever\u001B[39m\u001B[38;5;124m'\u001B[39m,\u001B[38;5;124m'\u001B[39m\u001B[38;5;124mWhile\u001B[39m\u001B[38;5;124m'\u001B[39m,\u001B[38;5;124m'\u001B[39m\u001B[38;5;124mAlthough\u001B[39m\u001B[38;5;124m'\u001B[39m,\u001B[38;5;124m'\u001B[39m\u001B[38;5;124mBecause\u001B[39m\u001B[38;5;124m'\u001B[39m,\u001B[38;5;124m'\u001B[39m\u001B[38;5;124mSince\u001B[39m\u001B[38;5;124m'\u001B[39m,\u001B[38;5;124m'\u001B[39m\u001B[38;5;124mSo\u001B[39m\u001B[38;5;124m'\u001B[39m,\u001B[38;5;124m'\u001B[39m\u001B[38;5;124mThat\u001B[39m\u001B[38;5;124m'\u001B[39m,\u001B[38;5;124m'\u001B[39m\u001B[38;5;124mThough\u001B[39m\u001B[38;5;124m'\u001B[39m,\u001B[38;5;124m'\u001B[39m\u001B[38;5;124mUnless\u001B[39m\u001B[38;5;124m'\u001B[39m,\u001B[38;5;124m'\u001B[39m\u001B[38;5;124mUntil\u001B[39m\u001B[38;5;124m'\u001B[39m,\u001B[38;5;124m'\u001B[39m\u001B[38;5;124mWhat\u001B[39m\u001B[38;5;124m'\u001B[39m,\u001B[38;5;124m'\u001B[39m\u001B[38;5;124mWhatever\u001B[39m\u001B[38;5;124m'\u001B[39m,\u001B[38;5;124m'\u001B[39m\u001B[38;5;124mWhen\u001B[39m\u001B[38;5;124m'\u001B[39m,\u001B[38;5;124m'\u001B[39m\u001B[38;5;124mWhenever\u001B[39m\u001B[38;5;124m'\u001B[39m,\u001B[38;5;124m'\u001B[39m\u001B[38;5;124mWhere\u001B[39m\u001B[38;5;124m'\u001B[39m,\u001B[38;5;124m'\u001B[39m\u001B[38;5;124mWherever\u001B[39m\u001B[38;5;124m'\u001B[39m,\u001B[38;5;124m'\u001B[39m\u001B[38;5;124mWhether\u001B[39m\u001B[38;5;124m'\u001B[39m,\u001B[38;5;124m'\u001B[39m\u001B[38;5;124mWhich\u001B[39m\u001B[38;5;124m'\u001B[39m,\u001B[38;5;124m'\u001B[39m\u001B[38;5;124mWhile\u001B[39m\u001B[38;5;124m'\u001B[39m,\u001B[38;5;124m'\u001B[39m\u001B[38;5;124mWho\u001B[39m\u001B[38;5;124m'\u001B[39m,\u001B[38;5;124m'\u001B[39m\u001B[38;5;124mWhoever\u001B[39m\u001B[38;5;124m'\u001B[39m,\u001B[38;5;124m'\u001B[39m\u001B[38;5;124mWhom\u001B[39m\u001B[38;5;124m'\u001B[39m,\u001B[38;5;124m'\u001B[39m\u001B[38;5;124mWhose\u001B[39m\u001B[38;5;124m'\u001B[39m,\u001B[38;5;124m'\u001B[39m\u001B[38;5;124mWhy\u001B[39m\u001B[38;5;124m'\u001B[39m,\u001B[38;5;124m'\u001B[39m\u001B[38;5;124mHow\u001B[39m\u001B[38;5;124m'\u001B[39m,\u001B[38;5;124m'\u001B[39m\u001B[38;5;124mHowever\u001B[39m\u001B[38;5;124m'\u001B[39m,\u001B[38;5;124m'\u001B[39m\u001B[38;5;124mWhereas\u001B[39m\u001B[38;5;124m'\u001B[39m,\u001B[38;5;124m'\u001B[39m\u001B[38;5;124mWhose\u001B[39m\u001B[38;5;124m'\u001B[39m,\u001B[38;5;124m'\u001B[39m\u001B[38;5;124mWhom\u001B[39m\u001B[38;5;124m'\u001B[39m,\u001B[38;5;124m'\u001B[39m\u001B[38;5;124mWhoever\u001B[39m\u001B[38;5;124m'\u001B[39m,\u001B[38;5;124m'\u001B[39m\u001B[38;5;124mWho\u001B[39m\u001B[38;5;124m'\u001B[39m,\u001B[38;5;124m'\u001B[39m\u001B[38;5;124mWhile\u001B[39m\u001B[38;5;124m'\u001B[39m,\u001B[38;5;124m'\u001B[39m\u001B[38;5;124mWhich\u001B[39m\u001B[38;5;124m'\u001B[39m,\u001B[38;5;124m'\u001B[39m\u001B[38;5;124mWhether\u001B[39m\u001B[38;5;124m'\u001B[39m,\u001B[38;5;124m'\u001B[39m\u001B[38;5;124mWherever\u001B[39m\u001B[38;5;124m'\u001B[39m,\u001B[38;5;124m'\u001B[39m\u001B[38;5;124mWhere\u001B[39m\u001B[38;5;124m'\u001B[39m,\u001B[38;5;124m'\u001B[39m\u001B[38;5;124mWhenever\u001B[39m\u001B[38;5;124m'\u001B[39m,\u001B[38;5;124m'\u001B[39m\u001B[38;5;124mWhen\u001B[39m\u001B[38;5;124m'\u001B[39m,\u001B[38;5;124m'\u001B[39m\u001B[38;5;124mWhatever\u001B[39m\u001B[38;5;124m'\u001B[39m,\u001B[38;5;124m'\u001B[39m\u001B[38;5;124mWhat\u001B[39m\u001B[38;5;124m'\u001B[39m,\u001B[38;5;124m'\u001B[39m\u001B[38;5;124mUntil\u001B[39m\u001B[38;5;124m'\u001B[39m,\u001B[38;5;124m'\u001B[39m\u001B[38;5;124mUnless\u001B[39m\u001B[38;5;124m'\u001B[39m,\u001B[38;5;124m'\u001B[39m\u001B[38;5;124mThough\u001B[39m\u001B[38;5;124m'\u001B[39m,\u001B[38;5;124m'\u001B[39m\u001B[38;5;124mThat\u001B[39m\u001B[38;5;124m'\u001B[39m,\u001B[38;5;124m'\u001B[39m\u001B[38;5;124mSo\u001B[39m\u001B[38;5;124m'\u001B[39m,\u001B[38;5;124m'\u001B[39m\u001B[38;5;124mSince\u001B[39m\u001B[38;5;124m'\u001B[39m,\u001B[38;5;124m'\u001B[39m\u001B[38;5;124mBecause\u001B[39m\u001B[38;5;124m'\u001B[39m,\u001B[38;5;124m'\u001B[39m\u001B[38;5;124mAs\u001B[39m\u001B[38;5;124m'\u001B[39m,\u001B[38;5;124m'\u001B[39m\u001B[38;5;124mWhile\u001B[39m\u001B[38;5;124m'\u001B[39m,\u001B[38;5;124m'\u001B[39m\u001B[38;5;124mWhenever\u001B[39m\u001B[38;5;124m'\u001B[39m,\u001B[38;5;124m'\u001B[39m\u001B[38;5;124mWhen\u001B[39m\u001B[38;5;124m'\u001B[39m,\u001B[38;5;124m'\u001B[39m\u001B[38;5;124mUntil\u001B[39m\u001B[38;5;124m'\u001B[39m,\u001B[38;5;124m'\u001B[39m\u001B[38;5;124mUnless\u001B[39m\u001B[38;5;124m'\u001B[39m,\u001B[38;5;124m'\u001B[39m\u001B[38;5;124mIf\u001B[39m\u001B[38;5;124m'\u001B[39m,\u001B[38;5;124m'\u001B[39m\u001B[38;5;124mEven\u001B[39m\u001B[38;5;124m'\u001B[39m,\u001B[38;5;124m'\u001B[39m\u001B[38;5;124mAlthough\u001B[39m\u001B[38;5;124m'\u001B[39m,\u001B[38;5;124m'\u001B[39m\u001B[38;5;124mThough\u001B[39m\u001B[38;5;124m'\u001B[39m,\u001B[38;5;124m'\u001B[39m\u001B[38;5;124mSo\u001B[39m\u001B[38;5;124m'\u001B[39m,\u001B[38;5;124m'\u001B[39m\u001B[38;5;124mSince\u001B[39m\u001B[38;5;124m'\u001B[39m,\u001B[38;5;124m'\u001B[39m\u001B[38;5;124mBecause\u001B[39m\u001B[38;5;124m'\u001B[39m,\u001B[38;5;124m'\u001B[39m\u001B[38;5;124mAs\u001B[39m\u001B[38;5;124m'\u001B[39m,\u001B[38;5;124m'\u001B[39m\u001B[38;5;124mAnd\u001B[39m\u001B[38;5;124m'\u001B[39m,\u001B[38;5;124m'\u001B[39m\u001B[38;5;124mOr\u001B[39m\u001B[38;5;124m'\u001B[39m,\u001B[38;5;124m'\u001B[39m\u001B[38;5;124mBut\u001B[39m\u001B[38;5;124m'\u001B[39m,\u001B[38;5;124m'\u001B[39m\u001B[38;5;124mAn\u001B[39m\u001B[38;5;124m'\u001B[39m,\u001B[38;5;124m'\u001B[39m\u001B[38;5;124mA\u001B[39m\u001B[38;5;124m'\u001B[39m,\u001B[38;5;124m'\u001B[39m\u001B[38;5;124mThe\u001B[39m\u001B[38;5;124m'\u001B[39m,\u001B[38;5;124m'\u001B[39m\u001B[38;5;124mOne\u001B[39m\u001B[38;5;124m'\u001B[39m)\n",
      "\u001B[0;31mTypeError\u001B[0m: list.append() takes exactly one argument (105 given)"
     ]
    }
   ],
   "source": [
    "# get the stopwords english\n",
    "from nltk.corpus import stopwords\n",
    "nltk.download('stopwords')\n",
    "stop_words = stopwords.words('english')\n",
    "print(stop_words)\n",
    "stop_words.append('I','One','The','It','This','That','We','You','They','He','She','It','We','They','One','The','A','An','And','But','Or','If','Unless','Until','While','As','Because','Since','So','Though','Although','Even','If','Once','Unless','Until','When','Whenever','While','Although','Because','Since','So','That','Though','Unless','Until','What','Whatever','When','Whenever','Where','Wherever','Whether','Which','While','Who','Whoever','Whom','Whose','Why','How','However','Whereas','Whose','Whom','Whoever','Who','While','Which','Whether','Wherever','Where','Whenever','When','Whatever','What','Until','Unless','Though','That','So','Since','Because','As','While','Whenever','When','Until','Unless','If','Even','Although','Though','So','Since','Because','As','And','Or','But','An','A','The','One')"
   ],
   "metadata": {
    "collapsed": false,
    "ExecuteTime": {
     "end_time": "2024-02-20T09:38:41.757870Z",
     "start_time": "2024-02-20T09:38:41.725387Z"
    }
   },
   "id": "985589b2a9004c4e"
  },
  {
   "cell_type": "code",
   "execution_count": 99,
   "outputs": [],
   "source": [
    "# remove the stop words in tokenized reviews\n",
    "def remove_stopwords(text):\n",
    "    return [word for word in text if word not in stop_words]\n",
    "\n",
    "df['Tokenized reviews'] = df['Tokenized reviews'].apply(remove_stopwords)"
   ],
   "metadata": {
    "collapsed": false,
    "ExecuteTime": {
     "end_time": "2024-02-20T09:38:49.268572Z",
     "start_time": "2024-02-20T09:38:49.108061Z"
    }
   },
   "id": "1f48b6e369664750"
  },
  {
   "cell_type": "code",
   "execution_count": 100,
   "outputs": [
    {
     "data": {
      "text/plain": "                                             reviews  \\\n0    Another case of reviewing British Airways fl...   \n1   On the memorable day of January 9th, my famil...   \n2   I did not actually get to fly with BA as they...   \n3   We had possibly the worse check-in experience...   \n4    I flew to LHR from ATH in Club Europe with B...   \n\n                                       Clean reviews  \\\n0    Another case of reviewing British Airways fl...   \n1   On the memorable day of January 9th  my famil...   \n2   I did not actually get to fly with BA as they...   \n3   We had possibly the worse check in experience...   \n4    I flew to LHR from ATH in Club Europe with B...   \n\n                                   Tokenized reviews  \n0  [another, case, reviewing, british, airways, f...  \n1  [memorable, day, january, 9th, family, embarke...  \n2  [actually, get, fly, ba, cancelled, flight, 3,...  \n3  [possibly, worse, check, experience, ever, eve...  \n4  [flew, lhr, ath, club, europe, ba641, dec, 31,...  ",
      "text/html": "<div>\n<style scoped>\n    .dataframe tbody tr th:only-of-type {\n        vertical-align: middle;\n    }\n\n    .dataframe tbody tr th {\n        vertical-align: top;\n    }\n\n    .dataframe thead th {\n        text-align: right;\n    }\n</style>\n<table border=\"1\" class=\"dataframe\">\n  <thead>\n    <tr style=\"text-align: right;\">\n      <th></th>\n      <th>reviews</th>\n      <th>Clean reviews</th>\n      <th>Tokenized reviews</th>\n    </tr>\n  </thead>\n  <tbody>\n    <tr>\n      <th>0</th>\n      <td>Another case of reviewing British Airways fl...</td>\n      <td>Another case of reviewing British Airways fl...</td>\n      <td>[another, case, reviewing, british, airways, f...</td>\n    </tr>\n    <tr>\n      <th>1</th>\n      <td>On the memorable day of January 9th, my famil...</td>\n      <td>On the memorable day of January 9th  my famil...</td>\n      <td>[memorable, day, january, 9th, family, embarke...</td>\n    </tr>\n    <tr>\n      <th>2</th>\n      <td>I did not actually get to fly with BA as they...</td>\n      <td>I did not actually get to fly with BA as they...</td>\n      <td>[actually, get, fly, ba, cancelled, flight, 3,...</td>\n    </tr>\n    <tr>\n      <th>3</th>\n      <td>We had possibly the worse check-in experience...</td>\n      <td>We had possibly the worse check in experience...</td>\n      <td>[possibly, worse, check, experience, ever, eve...</td>\n    </tr>\n    <tr>\n      <th>4</th>\n      <td>I flew to LHR from ATH in Club Europe with B...</td>\n      <td>I flew to LHR from ATH in Club Europe with B...</td>\n      <td>[flew, lhr, ath, club, europe, ba641, dec, 31,...</td>\n    </tr>\n  </tbody>\n</table>\n</div>"
     },
     "execution_count": 100,
     "metadata": {},
     "output_type": "execute_result"
    }
   ],
   "source": [
    "df.head()"
   ],
   "metadata": {
    "collapsed": false,
    "ExecuteTime": {
     "end_time": "2024-02-20T09:38:50.914206Z",
     "start_time": "2024-02-20T09:38:50.899100Z"
    }
   },
   "id": "f5c2c6ad33c62bc"
  },
  {
   "cell_type": "code",
   "execution_count": 101,
   "outputs": [],
   "source": [
    "# Step 4 Lemmatization"
   ],
   "metadata": {
    "collapsed": false,
    "ExecuteTime": {
     "end_time": "2024-02-20T09:39:04.847399Z",
     "start_time": "2024-02-20T09:39:04.807122Z"
    }
   },
   "id": "34c7dacc4c2aa8e3"
  },
  {
   "cell_type": "code",
   "execution_count": 102,
   "outputs": [],
   "source": [
    "from nltk.stem import WordNetLemmatizer\n",
    "lemmatizer = WordNetLemmatizer()"
   ],
   "metadata": {
    "collapsed": false,
    "ExecuteTime": {
     "end_time": "2024-02-20T09:40:13.405512Z",
     "start_time": "2024-02-20T09:40:13.351448Z"
    }
   },
   "id": "f8885e9082d31f1f"
  },
  {
   "cell_type": "code",
   "execution_count": 103,
   "outputs": [],
   "source": [
    "def lemmatize(text):\n",
    "    return [lemmatizer.lemmatize(word) for word in text]\n",
    "\n",
    "df['Lemma'] = df['Tokenized reviews'].apply(lemmatize)"
   ],
   "metadata": {
    "collapsed": false,
    "ExecuteTime": {
     "end_time": "2024-02-20T09:40:45.973934Z",
     "start_time": "2024-02-20T09:40:43.073465Z"
    }
   },
   "id": "8f6bde1d32ce728f"
  },
  {
   "cell_type": "code",
   "execution_count": 104,
   "outputs": [
    {
     "data": {
      "text/plain": "                                             reviews  \\\n0    Another case of reviewing British Airways fl...   \n1   On the memorable day of January 9th, my famil...   \n2   I did not actually get to fly with BA as they...   \n3   We had possibly the worse check-in experience...   \n4    I flew to LHR from ATH in Club Europe with B...   \n\n                                       Clean reviews  \\\n0    Another case of reviewing British Airways fl...   \n1   On the memorable day of January 9th  my famil...   \n2   I did not actually get to fly with BA as they...   \n3   We had possibly the worse check in experience...   \n4    I flew to LHR from ATH in Club Europe with B...   \n\n                                   Tokenized reviews  \\\n0  [another, case, reviewing, british, airways, f...   \n1  [memorable, day, january, 9th, family, embarke...   \n2  [actually, get, fly, ba, cancelled, flight, 3,...   \n3  [possibly, worse, check, experience, ever, eve...   \n4  [flew, lhr, ath, club, europe, ba641, dec, 31,...   \n\n                                               Lemma  \n0  [another, case, reviewing, british, airway, fl...  \n1  [memorable, day, january, 9th, family, embarke...  \n2  [actually, get, fly, ba, cancelled, flight, 3,...  \n3  [possibly, worse, check, experience, ever, eve...  \n4  [flew, lhr, ath, club, europe, ba641, dec, 31,...  ",
      "text/html": "<div>\n<style scoped>\n    .dataframe tbody tr th:only-of-type {\n        vertical-align: middle;\n    }\n\n    .dataframe tbody tr th {\n        vertical-align: top;\n    }\n\n    .dataframe thead th {\n        text-align: right;\n    }\n</style>\n<table border=\"1\" class=\"dataframe\">\n  <thead>\n    <tr style=\"text-align: right;\">\n      <th></th>\n      <th>reviews</th>\n      <th>Clean reviews</th>\n      <th>Tokenized reviews</th>\n      <th>Lemma</th>\n    </tr>\n  </thead>\n  <tbody>\n    <tr>\n      <th>0</th>\n      <td>Another case of reviewing British Airways fl...</td>\n      <td>Another case of reviewing British Airways fl...</td>\n      <td>[another, case, reviewing, british, airways, f...</td>\n      <td>[another, case, reviewing, british, airway, fl...</td>\n    </tr>\n    <tr>\n      <th>1</th>\n      <td>On the memorable day of January 9th, my famil...</td>\n      <td>On the memorable day of January 9th  my famil...</td>\n      <td>[memorable, day, january, 9th, family, embarke...</td>\n      <td>[memorable, day, january, 9th, family, embarke...</td>\n    </tr>\n    <tr>\n      <th>2</th>\n      <td>I did not actually get to fly with BA as they...</td>\n      <td>I did not actually get to fly with BA as they...</td>\n      <td>[actually, get, fly, ba, cancelled, flight, 3,...</td>\n      <td>[actually, get, fly, ba, cancelled, flight, 3,...</td>\n    </tr>\n    <tr>\n      <th>3</th>\n      <td>We had possibly the worse check-in experience...</td>\n      <td>We had possibly the worse check in experience...</td>\n      <td>[possibly, worse, check, experience, ever, eve...</td>\n      <td>[possibly, worse, check, experience, ever, eve...</td>\n    </tr>\n    <tr>\n      <th>4</th>\n      <td>I flew to LHR from ATH in Club Europe with B...</td>\n      <td>I flew to LHR from ATH in Club Europe with B...</td>\n      <td>[flew, lhr, ath, club, europe, ba641, dec, 31,...</td>\n      <td>[flew, lhr, ath, club, europe, ba641, dec, 31,...</td>\n    </tr>\n  </tbody>\n</table>\n</div>"
     },
     "execution_count": 104,
     "metadata": {},
     "output_type": "execute_result"
    }
   ],
   "source": [
    "df.head()"
   ],
   "metadata": {
    "collapsed": false,
    "ExecuteTime": {
     "end_time": "2024-02-20T09:40:46.751991Z",
     "start_time": "2024-02-20T09:40:46.707805Z"
    }
   },
   "id": "c4d594cdb994b4d1"
  },
  {
   "cell_type": "code",
   "execution_count": 105,
   "outputs": [],
   "source": [
    "# Now we'll detect the sentiment of the reviews"
   ],
   "metadata": {
    "collapsed": false,
    "ExecuteTime": {
     "end_time": "2024-02-20T09:42:16.603171Z",
     "start_time": "2024-02-20T09:42:16.565670Z"
    }
   },
   "id": "9691898efbeb66c9"
  },
  {
   "cell_type": "code",
   "execution_count": 107,
   "outputs": [],
   "source": [
    "from vaderSentiment.vaderSentiment import SentimentIntensityAnalyzer \n",
    "analyzer = SentimentIntensityAnalyzer() "
   ],
   "metadata": {
    "collapsed": false,
    "ExecuteTime": {
     "end_time": "2024-02-20T12:11:03.024365Z",
     "start_time": "2024-02-20T12:11:02.959607Z"
    }
   },
   "id": "20d32fa7144e778d"
  },
  {
   "cell_type": "code",
   "execution_count": 115,
   "outputs": [],
   "source": [
    "def vaderanalysis(review):\n",
    "    vs = analyzer.polarity_scores(review)\n",
    "    return vs\n",
    "\n",
    "df['Sentiment'] = df['Lemma'].apply(vaderanalysis)"
   ],
   "metadata": {
    "collapsed": false,
    "ExecuteTime": {
     "end_time": "2024-02-20T12:21:29.264291Z",
     "start_time": "2024-02-20T12:21:29.192655Z"
    }
   },
   "id": "8d271d6a1195b2ee"
  },
  {
   "cell_type": "code",
   "execution_count": 117,
   "outputs": [
    {
     "data": {
      "text/plain": "                                              reviews  \\\n0     Another case of reviewing British Airways fl...   \n1    On the memorable day of January 9th, my famil...   \n2    I did not actually get to fly with BA as they...   \n3    We had possibly the worse check-in experience...   \n4     I flew to LHR from ATH in Club Europe with B...   \n5     I like the British Airways World Traveller P...   \n6     I have come to boarding and my cabin luggage...   \n7    Stinking nappies being changed in business ca...   \n8    Worst service ever. Lost baggage because of d...   \n9     BA 246 21JAN 2023 Did not appreciate the unp...   \n10   Not a great experience. I could not check in ...   \n11   I was excited to fly BA as I'd not travelled ...   \n12    I just want to warn everyone of the worst cu...   \n13   Paid for business class travelling Cairo to L...   \n14    The plane was extremely dirty with chocolate...   \n15   Overall journey wasn’t bad however at the end...   \n\n                                        Clean reviews  \\\n0     Another case of reviewing British Airways fl...   \n1    On the memorable day of January 9th  my famil...   \n2    I did not actually get to fly with BA as they...   \n3    We had possibly the worse check in experience...   \n4     I flew to LHR from ATH in Club Europe with B...   \n5     I like the British Airways World Traveller P...   \n6     I have come to boarding and my cabin luggage...   \n7    Stinking nappies being changed in business ca...   \n8    Worst service ever  Lost baggage because of d...   \n9     BA 246 21JAN 2023 Did not appreciate the unp...   \n10   Not a great experience  I could not check in ...   \n11   I was excited to fly BA as I d not travelled ...   \n12    I just want to warn everyone of the worst cu...   \n13   Paid for business class travelling Cairo to L...   \n14    The plane was extremely dirty with chocolate...   \n15   Overall journey wasn t bad however at the end...   \n\n                                    Tokenized reviews  \\\n0   [another, case, reviewing, british, airways, f...   \n1   [memorable, day, january, 9th, family, embarke...   \n2   [actually, get, fly, ba, cancelled, flight, 3,...   \n3   [possibly, worse, check, experience, ever, eve...   \n4   [flew, lhr, ath, club, europe, ba641, dec, 31,...   \n5   [like, british, airways, world, traveller, plu...   \n6   [come, boarding, cabin, luggage, taken, plane,...   \n7   [stinking, nappies, changed, business, cabin, ...   \n8   [worst, service, ever, lost, baggage, delayed,...   \n9   [ba, 246, 21jan, 2023, appreciate, unprofessio...   \n10  [great, experience, could, check, online, two,...   \n11  [excited, fly, ba, travelled, long, haul, 25yr...   \n12  [want, warn, everyone, worst, customer, servic...   \n13  [paid, business, class, travelling, cairo, lon...   \n14  [plane, extremely, dirty, chocolate, smudged, ...   \n15  [overall, journey, bad, however, end, baggage,...   \n\n                                                Lemma  \\\n0   [another, case, reviewing, british, airway, fl...   \n1   [memorable, day, january, 9th, family, embarke...   \n2   [actually, get, fly, ba, cancelled, flight, 3,...   \n3   [possibly, worse, check, experience, ever, eve...   \n4   [flew, lhr, ath, club, europe, ba641, dec, 31,...   \n5   [like, british, airway, world, traveller, plus...   \n6   [come, boarding, cabin, luggage, taken, plane,...   \n7   [stinking, nappy, changed, business, cabin, th...   \n8   [worst, service, ever, lost, baggage, delayed,...   \n9   [ba, 246, 21jan, 2023, appreciate, unprofessio...   \n10  [great, experience, could, check, online, two,...   \n11  [excited, fly, ba, travelled, long, haul, 25yr...   \n12  [want, warn, everyone, worst, customer, servic...   \n13  [paid, business, class, travelling, cairo, lon...   \n14  [plane, extremely, dirty, chocolate, smudged, ...   \n15  [overall, journey, bad, however, end, baggage,...   \n\n                                            Sentiment  \n0   {'neg': 0.0, 'neu': 1.0, 'pos': 0.0, 'compound...  \n1   {'neg': 0.0, 'neu': 1.0, 'pos': 0.0, 'compound...  \n2   {'neg': 0.0, 'neu': 1.0, 'pos': 0.0, 'compound...  \n3   {'neg': 0.0, 'neu': 1.0, 'pos': 0.0, 'compound...  \n4   {'neg': 0.0, 'neu': 1.0, 'pos': 0.0, 'compound...  \n5   {'neg': 0.0, 'neu': 1.0, 'pos': 0.0, 'compound...  \n6   {'neg': 0.0, 'neu': 1.0, 'pos': 0.0, 'compound...  \n7   {'neg': 0.0, 'neu': 1.0, 'pos': 0.0, 'compound...  \n8   {'neg': 0.0, 'neu': 1.0, 'pos': 0.0, 'compound...  \n9   {'neg': 0.0, 'neu': 1.0, 'pos': 0.0, 'compound...  \n10  {'neg': 0.0, 'neu': 1.0, 'pos': 0.0, 'compound...  \n11  {'neg': 0.0, 'neu': 1.0, 'pos': 0.0, 'compound...  \n12  {'neg': 0.0, 'neu': 1.0, 'pos': 0.0, 'compound...  \n13  {'neg': 0.0, 'neu': 1.0, 'pos': 0.0, 'compound...  \n14  {'neg': 0.0, 'neu': 1.0, 'pos': 0.0, 'compound...  \n15  {'neg': 0.0, 'neu': 1.0, 'pos': 0.0, 'compound...  ",
      "text/html": "<div>\n<style scoped>\n    .dataframe tbody tr th:only-of-type {\n        vertical-align: middle;\n    }\n\n    .dataframe tbody tr th {\n        vertical-align: top;\n    }\n\n    .dataframe thead th {\n        text-align: right;\n    }\n</style>\n<table border=\"1\" class=\"dataframe\">\n  <thead>\n    <tr style=\"text-align: right;\">\n      <th></th>\n      <th>reviews</th>\n      <th>Clean reviews</th>\n      <th>Tokenized reviews</th>\n      <th>Lemma</th>\n      <th>Sentiment</th>\n    </tr>\n  </thead>\n  <tbody>\n    <tr>\n      <th>0</th>\n      <td>Another case of reviewing British Airways fl...</td>\n      <td>Another case of reviewing British Airways fl...</td>\n      <td>[another, case, reviewing, british, airways, f...</td>\n      <td>[another, case, reviewing, british, airway, fl...</td>\n      <td>{'neg': 0.0, 'neu': 1.0, 'pos': 0.0, 'compound...</td>\n    </tr>\n    <tr>\n      <th>1</th>\n      <td>On the memorable day of January 9th, my famil...</td>\n      <td>On the memorable day of January 9th  my famil...</td>\n      <td>[memorable, day, january, 9th, family, embarke...</td>\n      <td>[memorable, day, january, 9th, family, embarke...</td>\n      <td>{'neg': 0.0, 'neu': 1.0, 'pos': 0.0, 'compound...</td>\n    </tr>\n    <tr>\n      <th>2</th>\n      <td>I did not actually get to fly with BA as they...</td>\n      <td>I did not actually get to fly with BA as they...</td>\n      <td>[actually, get, fly, ba, cancelled, flight, 3,...</td>\n      <td>[actually, get, fly, ba, cancelled, flight, 3,...</td>\n      <td>{'neg': 0.0, 'neu': 1.0, 'pos': 0.0, 'compound...</td>\n    </tr>\n    <tr>\n      <th>3</th>\n      <td>We had possibly the worse check-in experience...</td>\n      <td>We had possibly the worse check in experience...</td>\n      <td>[possibly, worse, check, experience, ever, eve...</td>\n      <td>[possibly, worse, check, experience, ever, eve...</td>\n      <td>{'neg': 0.0, 'neu': 1.0, 'pos': 0.0, 'compound...</td>\n    </tr>\n    <tr>\n      <th>4</th>\n      <td>I flew to LHR from ATH in Club Europe with B...</td>\n      <td>I flew to LHR from ATH in Club Europe with B...</td>\n      <td>[flew, lhr, ath, club, europe, ba641, dec, 31,...</td>\n      <td>[flew, lhr, ath, club, europe, ba641, dec, 31,...</td>\n      <td>{'neg': 0.0, 'neu': 1.0, 'pos': 0.0, 'compound...</td>\n    </tr>\n    <tr>\n      <th>5</th>\n      <td>I like the British Airways World Traveller P...</td>\n      <td>I like the British Airways World Traveller P...</td>\n      <td>[like, british, airways, world, traveller, plu...</td>\n      <td>[like, british, airway, world, traveller, plus...</td>\n      <td>{'neg': 0.0, 'neu': 1.0, 'pos': 0.0, 'compound...</td>\n    </tr>\n    <tr>\n      <th>6</th>\n      <td>I have come to boarding and my cabin luggage...</td>\n      <td>I have come to boarding and my cabin luggage...</td>\n      <td>[come, boarding, cabin, luggage, taken, plane,...</td>\n      <td>[come, boarding, cabin, luggage, taken, plane,...</td>\n      <td>{'neg': 0.0, 'neu': 1.0, 'pos': 0.0, 'compound...</td>\n    </tr>\n    <tr>\n      <th>7</th>\n      <td>Stinking nappies being changed in business ca...</td>\n      <td>Stinking nappies being changed in business ca...</td>\n      <td>[stinking, nappies, changed, business, cabin, ...</td>\n      <td>[stinking, nappy, changed, business, cabin, th...</td>\n      <td>{'neg': 0.0, 'neu': 1.0, 'pos': 0.0, 'compound...</td>\n    </tr>\n    <tr>\n      <th>8</th>\n      <td>Worst service ever. Lost baggage because of d...</td>\n      <td>Worst service ever  Lost baggage because of d...</td>\n      <td>[worst, service, ever, lost, baggage, delayed,...</td>\n      <td>[worst, service, ever, lost, baggage, delayed,...</td>\n      <td>{'neg': 0.0, 'neu': 1.0, 'pos': 0.0, 'compound...</td>\n    </tr>\n    <tr>\n      <th>9</th>\n      <td>BA 246 21JAN 2023 Did not appreciate the unp...</td>\n      <td>BA 246 21JAN 2023 Did not appreciate the unp...</td>\n      <td>[ba, 246, 21jan, 2023, appreciate, unprofessio...</td>\n      <td>[ba, 246, 21jan, 2023, appreciate, unprofessio...</td>\n      <td>{'neg': 0.0, 'neu': 1.0, 'pos': 0.0, 'compound...</td>\n    </tr>\n    <tr>\n      <th>10</th>\n      <td>Not a great experience. I could not check in ...</td>\n      <td>Not a great experience  I could not check in ...</td>\n      <td>[great, experience, could, check, online, two,...</td>\n      <td>[great, experience, could, check, online, two,...</td>\n      <td>{'neg': 0.0, 'neu': 1.0, 'pos': 0.0, 'compound...</td>\n    </tr>\n    <tr>\n      <th>11</th>\n      <td>I was excited to fly BA as I'd not travelled ...</td>\n      <td>I was excited to fly BA as I d not travelled ...</td>\n      <td>[excited, fly, ba, travelled, long, haul, 25yr...</td>\n      <td>[excited, fly, ba, travelled, long, haul, 25yr...</td>\n      <td>{'neg': 0.0, 'neu': 1.0, 'pos': 0.0, 'compound...</td>\n    </tr>\n    <tr>\n      <th>12</th>\n      <td>I just want to warn everyone of the worst cu...</td>\n      <td>I just want to warn everyone of the worst cu...</td>\n      <td>[want, warn, everyone, worst, customer, servic...</td>\n      <td>[want, warn, everyone, worst, customer, servic...</td>\n      <td>{'neg': 0.0, 'neu': 1.0, 'pos': 0.0, 'compound...</td>\n    </tr>\n    <tr>\n      <th>13</th>\n      <td>Paid for business class travelling Cairo to L...</td>\n      <td>Paid for business class travelling Cairo to L...</td>\n      <td>[paid, business, class, travelling, cairo, lon...</td>\n      <td>[paid, business, class, travelling, cairo, lon...</td>\n      <td>{'neg': 0.0, 'neu': 1.0, 'pos': 0.0, 'compound...</td>\n    </tr>\n    <tr>\n      <th>14</th>\n      <td>The plane was extremely dirty with chocolate...</td>\n      <td>The plane was extremely dirty with chocolate...</td>\n      <td>[plane, extremely, dirty, chocolate, smudged, ...</td>\n      <td>[plane, extremely, dirty, chocolate, smudged, ...</td>\n      <td>{'neg': 0.0, 'neu': 1.0, 'pos': 0.0, 'compound...</td>\n    </tr>\n    <tr>\n      <th>15</th>\n      <td>Overall journey wasn’t bad however at the end...</td>\n      <td>Overall journey wasn t bad however at the end...</td>\n      <td>[overall, journey, bad, however, end, baggage,...</td>\n      <td>[overall, journey, bad, however, end, baggage,...</td>\n      <td>{'neg': 0.0, 'neu': 1.0, 'pos': 0.0, 'compound...</td>\n    </tr>\n  </tbody>\n</table>\n</div>"
     },
     "execution_count": 117,
     "metadata": {},
     "output_type": "execute_result"
    }
   ],
   "source": [
    "df.head(16)"
   ],
   "metadata": {
    "collapsed": false,
    "ExecuteTime": {
     "end_time": "2024-02-20T12:22:32.205574Z",
     "start_time": "2024-02-20T12:22:32.184540Z"
    }
   },
   "id": "b59cbf1184674bdc"
  },
  {
   "cell_type": "code",
   "execution_count": 118,
   "outputs": [],
   "source": [
    "# do this thing sentiment with textblob"
   ],
   "metadata": {
    "collapsed": false,
    "ExecuteTime": {
     "end_time": "2024-02-20T12:23:31.907337Z",
     "start_time": "2024-02-20T12:23:31.861900Z"
    }
   },
   "id": "49eb698b8893c505"
  },
  {
   "cell_type": "code",
   "execution_count": 120,
   "outputs": [],
   "source": [
    "from textblob import TextBlob"
   ],
   "metadata": {
    "collapsed": false,
    "ExecuteTime": {
     "end_time": "2024-02-20T12:24:10.117386Z",
     "start_time": "2024-02-20T12:24:09.956585Z"
    }
   },
   "id": "d42326d126a7fb7b"
  },
  {
   "cell_type": "code",
   "execution_count": 127,
   "outputs": [],
   "source": [
    "def textblobanalysis(review):\n",
    "    text = ' '.join(review)\n",
    "    br = TextBlob(text).sentiment\n",
    "    polarity = br.polarity\n",
    "    return polarity"
   ],
   "metadata": {
    "collapsed": false,
    "ExecuteTime": {
     "end_time": "2024-02-20T12:29:19.869679Z",
     "start_time": "2024-02-20T12:29:19.843320Z"
    }
   },
   "id": "97a85e61a7ea630f"
  },
  {
   "cell_type": "code",
   "execution_count": 128,
   "outputs": [],
   "source": [
    "df['Sentiment2'] = df['Lemma'].apply(textblobanalysis)"
   ],
   "metadata": {
    "collapsed": false,
    "ExecuteTime": {
     "end_time": "2024-02-20T12:29:21.161437Z",
     "start_time": "2024-02-20T12:29:20.468280Z"
    }
   },
   "id": "9e16d77d77b28702"
  },
  {
   "cell_type": "code",
   "execution_count": 129,
   "outputs": [
    {
     "data": {
      "text/plain": "                                             reviews  \\\n0    Another case of reviewing British Airways fl...   \n1   On the memorable day of January 9th, my famil...   \n2   I did not actually get to fly with BA as they...   \n3   We had possibly the worse check-in experience...   \n4    I flew to LHR from ATH in Club Europe with B...   \n\n                                       Clean reviews  \\\n0    Another case of reviewing British Airways fl...   \n1   On the memorable day of January 9th  my famil...   \n2   I did not actually get to fly with BA as they...   \n3   We had possibly the worse check in experience...   \n4    I flew to LHR from ATH in Club Europe with B...   \n\n                                   Tokenized reviews  \\\n0  [another, case, reviewing, british, airways, f...   \n1  [memorable, day, january, 9th, family, embarke...   \n2  [actually, get, fly, ba, cancelled, flight, 3,...   \n3  [possibly, worse, check, experience, ever, eve...   \n4  [flew, lhr, ath, club, europe, ba641, dec, 31,...   \n\n                                               Lemma  \\\n0  [another, case, reviewing, british, airway, fl...   \n1  [memorable, day, january, 9th, family, embarke...   \n2  [actually, get, fly, ba, cancelled, flight, 3,...   \n3  [possibly, worse, check, experience, ever, eve...   \n4  [flew, lhr, ath, club, europe, ba641, dec, 31,...   \n\n                                           Sentiment  Sentiment2  \n0  {'neg': 0.0, 'neu': 1.0, 'pos': 0.0, 'compound...    0.150000  \n1  {'neg': 0.0, 'neu': 1.0, 'pos': 0.0, 'compound...    0.208958  \n2  {'neg': 0.0, 'neu': 1.0, 'pos': 0.0, 'compound...    0.266667  \n3  {'neg': 0.0, 'neu': 1.0, 'pos': 0.0, 'compound...    0.043056  \n4  {'neg': 0.0, 'neu': 1.0, 'pos': 0.0, 'compound...    0.208333  ",
      "text/html": "<div>\n<style scoped>\n    .dataframe tbody tr th:only-of-type {\n        vertical-align: middle;\n    }\n\n    .dataframe tbody tr th {\n        vertical-align: top;\n    }\n\n    .dataframe thead th {\n        text-align: right;\n    }\n</style>\n<table border=\"1\" class=\"dataframe\">\n  <thead>\n    <tr style=\"text-align: right;\">\n      <th></th>\n      <th>reviews</th>\n      <th>Clean reviews</th>\n      <th>Tokenized reviews</th>\n      <th>Lemma</th>\n      <th>Sentiment</th>\n      <th>Sentiment2</th>\n    </tr>\n  </thead>\n  <tbody>\n    <tr>\n      <th>0</th>\n      <td>Another case of reviewing British Airways fl...</td>\n      <td>Another case of reviewing British Airways fl...</td>\n      <td>[another, case, reviewing, british, airways, f...</td>\n      <td>[another, case, reviewing, british, airway, fl...</td>\n      <td>{'neg': 0.0, 'neu': 1.0, 'pos': 0.0, 'compound...</td>\n      <td>0.150000</td>\n    </tr>\n    <tr>\n      <th>1</th>\n      <td>On the memorable day of January 9th, my famil...</td>\n      <td>On the memorable day of January 9th  my famil...</td>\n      <td>[memorable, day, january, 9th, family, embarke...</td>\n      <td>[memorable, day, january, 9th, family, embarke...</td>\n      <td>{'neg': 0.0, 'neu': 1.0, 'pos': 0.0, 'compound...</td>\n      <td>0.208958</td>\n    </tr>\n    <tr>\n      <th>2</th>\n      <td>I did not actually get to fly with BA as they...</td>\n      <td>I did not actually get to fly with BA as they...</td>\n      <td>[actually, get, fly, ba, cancelled, flight, 3,...</td>\n      <td>[actually, get, fly, ba, cancelled, flight, 3,...</td>\n      <td>{'neg': 0.0, 'neu': 1.0, 'pos': 0.0, 'compound...</td>\n      <td>0.266667</td>\n    </tr>\n    <tr>\n      <th>3</th>\n      <td>We had possibly the worse check-in experience...</td>\n      <td>We had possibly the worse check in experience...</td>\n      <td>[possibly, worse, check, experience, ever, eve...</td>\n      <td>[possibly, worse, check, experience, ever, eve...</td>\n      <td>{'neg': 0.0, 'neu': 1.0, 'pos': 0.0, 'compound...</td>\n      <td>0.043056</td>\n    </tr>\n    <tr>\n      <th>4</th>\n      <td>I flew to LHR from ATH in Club Europe with B...</td>\n      <td>I flew to LHR from ATH in Club Europe with B...</td>\n      <td>[flew, lhr, ath, club, europe, ba641, dec, 31,...</td>\n      <td>[flew, lhr, ath, club, europe, ba641, dec, 31,...</td>\n      <td>{'neg': 0.0, 'neu': 1.0, 'pos': 0.0, 'compound...</td>\n      <td>0.208333</td>\n    </tr>\n  </tbody>\n</table>\n</div>"
     },
     "execution_count": 129,
     "metadata": {},
     "output_type": "execute_result"
    }
   ],
   "source": [
    "df.head()"
   ],
   "metadata": {
    "collapsed": false,
    "ExecuteTime": {
     "end_time": "2024-02-20T12:29:27.290184Z",
     "start_time": "2024-02-20T12:29:27.258067Z"
    }
   },
   "id": "bd08698eddeee415"
  },
  {
   "cell_type": "code",
   "execution_count": 130,
   "outputs": [],
   "source": [
    "# depending on sentiment we'll classify the reviews as positive, negative or neutral"
   ],
   "metadata": {
    "collapsed": false,
    "ExecuteTime": {
     "end_time": "2024-02-20T12:30:12.185269Z",
     "start_time": "2024-02-20T12:30:12.136741Z"
    }
   },
   "id": "7b2f5679afa482ef"
  },
  {
   "cell_type": "code",
   "execution_count": 155,
   "outputs": [],
   "source": [
    "def classify_sentiment(score):\n",
    "    if score >= 0.1:\n",
    "        return 'Positive'\n",
    "    elif score < 0:\n",
    "        return 'Negative'\n",
    "    else:\n",
    "        return 'Neutral'"
   ],
   "metadata": {
    "collapsed": false,
    "ExecuteTime": {
     "end_time": "2024-02-20T12:35:04.234853Z",
     "start_time": "2024-02-20T12:35:04.206463Z"
    }
   },
   "id": "1b80454b9b5c15fd"
  },
  {
   "cell_type": "code",
   "execution_count": 156,
   "outputs": [],
   "source": [
    "df['Analysis'] = df['Sentiment2'].apply(classify_sentiment)"
   ],
   "metadata": {
    "collapsed": false,
    "ExecuteTime": {
     "end_time": "2024-02-20T12:35:04.417399Z",
     "start_time": "2024-02-20T12:35:04.387461Z"
    }
   },
   "id": "52e890af13a5e336"
  },
  {
   "cell_type": "code",
   "execution_count": 157,
   "outputs": [
    {
     "data": {
      "text/plain": "                                             reviews  \\\n0    Another case of reviewing British Airways fl...   \n1   On the memorable day of January 9th, my famil...   \n2   I did not actually get to fly with BA as they...   \n3   We had possibly the worse check-in experience...   \n4    I flew to LHR from ATH in Club Europe with B...   \n\n                                       Clean reviews  \\\n0    Another case of reviewing British Airways fl...   \n1   On the memorable day of January 9th  my famil...   \n2   I did not actually get to fly with BA as they...   \n3   We had possibly the worse check in experience...   \n4    I flew to LHR from ATH in Club Europe with B...   \n\n                                   Tokenized reviews  \\\n0  [another, case, reviewing, british, airways, f...   \n1  [memorable, day, january, 9th, family, embarke...   \n2  [actually, get, fly, ba, cancelled, flight, 3,...   \n3  [possibly, worse, check, experience, ever, eve...   \n4  [flew, lhr, ath, club, europe, ba641, dec, 31,...   \n\n                                               Lemma  \\\n0  [another, case, reviewing, british, airway, fl...   \n1  [memorable, day, january, 9th, family, embarke...   \n2  [actually, get, fly, ba, cancelled, flight, 3,...   \n3  [possibly, worse, check, experience, ever, eve...   \n4  [flew, lhr, ath, club, europe, ba641, dec, 31,...   \n\n                                           Sentiment  Sentiment2  Analysis  \n0  {'neg': 0.0, 'neu': 1.0, 'pos': 0.0, 'compound...    0.150000  Positive  \n1  {'neg': 0.0, 'neu': 1.0, 'pos': 0.0, 'compound...    0.208958  Positive  \n2  {'neg': 0.0, 'neu': 1.0, 'pos': 0.0, 'compound...    0.266667  Positive  \n3  {'neg': 0.0, 'neu': 1.0, 'pos': 0.0, 'compound...    0.043056   Neutral  \n4  {'neg': 0.0, 'neu': 1.0, 'pos': 0.0, 'compound...    0.208333  Positive  ",
      "text/html": "<div>\n<style scoped>\n    .dataframe tbody tr th:only-of-type {\n        vertical-align: middle;\n    }\n\n    .dataframe tbody tr th {\n        vertical-align: top;\n    }\n\n    .dataframe thead th {\n        text-align: right;\n    }\n</style>\n<table border=\"1\" class=\"dataframe\">\n  <thead>\n    <tr style=\"text-align: right;\">\n      <th></th>\n      <th>reviews</th>\n      <th>Clean reviews</th>\n      <th>Tokenized reviews</th>\n      <th>Lemma</th>\n      <th>Sentiment</th>\n      <th>Sentiment2</th>\n      <th>Analysis</th>\n    </tr>\n  </thead>\n  <tbody>\n    <tr>\n      <th>0</th>\n      <td>Another case of reviewing British Airways fl...</td>\n      <td>Another case of reviewing British Airways fl...</td>\n      <td>[another, case, reviewing, british, airways, f...</td>\n      <td>[another, case, reviewing, british, airway, fl...</td>\n      <td>{'neg': 0.0, 'neu': 1.0, 'pos': 0.0, 'compound...</td>\n      <td>0.150000</td>\n      <td>Positive</td>\n    </tr>\n    <tr>\n      <th>1</th>\n      <td>On the memorable day of January 9th, my famil...</td>\n      <td>On the memorable day of January 9th  my famil...</td>\n      <td>[memorable, day, january, 9th, family, embarke...</td>\n      <td>[memorable, day, january, 9th, family, embarke...</td>\n      <td>{'neg': 0.0, 'neu': 1.0, 'pos': 0.0, 'compound...</td>\n      <td>0.208958</td>\n      <td>Positive</td>\n    </tr>\n    <tr>\n      <th>2</th>\n      <td>I did not actually get to fly with BA as they...</td>\n      <td>I did not actually get to fly with BA as they...</td>\n      <td>[actually, get, fly, ba, cancelled, flight, 3,...</td>\n      <td>[actually, get, fly, ba, cancelled, flight, 3,...</td>\n      <td>{'neg': 0.0, 'neu': 1.0, 'pos': 0.0, 'compound...</td>\n      <td>0.266667</td>\n      <td>Positive</td>\n    </tr>\n    <tr>\n      <th>3</th>\n      <td>We had possibly the worse check-in experience...</td>\n      <td>We had possibly the worse check in experience...</td>\n      <td>[possibly, worse, check, experience, ever, eve...</td>\n      <td>[possibly, worse, check, experience, ever, eve...</td>\n      <td>{'neg': 0.0, 'neu': 1.0, 'pos': 0.0, 'compound...</td>\n      <td>0.043056</td>\n      <td>Neutral</td>\n    </tr>\n    <tr>\n      <th>4</th>\n      <td>I flew to LHR from ATH in Club Europe with B...</td>\n      <td>I flew to LHR from ATH in Club Europe with B...</td>\n      <td>[flew, lhr, ath, club, europe, ba641, dec, 31,...</td>\n      <td>[flew, lhr, ath, club, europe, ba641, dec, 31,...</td>\n      <td>{'neg': 0.0, 'neu': 1.0, 'pos': 0.0, 'compound...</td>\n      <td>0.208333</td>\n      <td>Positive</td>\n    </tr>\n  </tbody>\n</table>\n</div>"
     },
     "execution_count": 157,
     "metadata": {},
     "output_type": "execute_result"
    }
   ],
   "source": [
    "df.head()"
   ],
   "metadata": {
    "collapsed": false,
    "ExecuteTime": {
     "end_time": "2024-02-20T12:35:04.606704Z",
     "start_time": "2024-02-20T12:35:04.586411Z"
    }
   },
   "id": "475abedeb99475e"
  },
  {
   "cell_type": "code",
   "execution_count": 158,
   "outputs": [
    {
     "data": {
      "text/plain": "Analysis\nPositive    424\nNegative    348\nNeutral     228\nName: count, dtype: int64"
     },
     "execution_count": 158,
     "metadata": {},
     "output_type": "execute_result"
    }
   ],
   "source": [
    "df['Analysis'].value_counts()"
   ],
   "metadata": {
    "collapsed": false,
    "ExecuteTime": {
     "end_time": "2024-02-20T12:35:05.610301Z",
     "start_time": "2024-02-20T12:35:05.575907Z"
    }
   },
   "id": "73602b895e80af88"
  },
  {
   "cell_type": "code",
   "execution_count": 159,
   "outputs": [],
   "source": [
    "df.drop(['Sentiment'], axis=1, inplace=True)"
   ],
   "metadata": {
    "collapsed": false,
    "ExecuteTime": {
     "end_time": "2024-02-20T12:35:48.732293Z",
     "start_time": "2024-02-20T12:35:48.648024Z"
    }
   },
   "id": "36984eb8376e01b9"
  },
  {
   "cell_type": "code",
   "execution_count": 160,
   "outputs": [
    {
     "data": {
      "text/plain": "                                             reviews  \\\n0    Another case of reviewing British Airways fl...   \n1   On the memorable day of January 9th, my famil...   \n2   I did not actually get to fly with BA as they...   \n3   We had possibly the worse check-in experience...   \n4    I flew to LHR from ATH in Club Europe with B...   \n\n                                       Clean reviews  \\\n0    Another case of reviewing British Airways fl...   \n1   On the memorable day of January 9th  my famil...   \n2   I did not actually get to fly with BA as they...   \n3   We had possibly the worse check in experience...   \n4    I flew to LHR from ATH in Club Europe with B...   \n\n                                   Tokenized reviews  \\\n0  [another, case, reviewing, british, airways, f...   \n1  [memorable, day, january, 9th, family, embarke...   \n2  [actually, get, fly, ba, cancelled, flight, 3,...   \n3  [possibly, worse, check, experience, ever, eve...   \n4  [flew, lhr, ath, club, europe, ba641, dec, 31,...   \n\n                                               Lemma  Sentiment2  Analysis  \n0  [another, case, reviewing, british, airway, fl...    0.150000  Positive  \n1  [memorable, day, january, 9th, family, embarke...    0.208958  Positive  \n2  [actually, get, fly, ba, cancelled, flight, 3,...    0.266667  Positive  \n3  [possibly, worse, check, experience, ever, eve...    0.043056   Neutral  \n4  [flew, lhr, ath, club, europe, ba641, dec, 31,...    0.208333  Positive  ",
      "text/html": "<div>\n<style scoped>\n    .dataframe tbody tr th:only-of-type {\n        vertical-align: middle;\n    }\n\n    .dataframe tbody tr th {\n        vertical-align: top;\n    }\n\n    .dataframe thead th {\n        text-align: right;\n    }\n</style>\n<table border=\"1\" class=\"dataframe\">\n  <thead>\n    <tr style=\"text-align: right;\">\n      <th></th>\n      <th>reviews</th>\n      <th>Clean reviews</th>\n      <th>Tokenized reviews</th>\n      <th>Lemma</th>\n      <th>Sentiment2</th>\n      <th>Analysis</th>\n    </tr>\n  </thead>\n  <tbody>\n    <tr>\n      <th>0</th>\n      <td>Another case of reviewing British Airways fl...</td>\n      <td>Another case of reviewing British Airways fl...</td>\n      <td>[another, case, reviewing, british, airways, f...</td>\n      <td>[another, case, reviewing, british, airway, fl...</td>\n      <td>0.150000</td>\n      <td>Positive</td>\n    </tr>\n    <tr>\n      <th>1</th>\n      <td>On the memorable day of January 9th, my famil...</td>\n      <td>On the memorable day of January 9th  my famil...</td>\n      <td>[memorable, day, january, 9th, family, embarke...</td>\n      <td>[memorable, day, january, 9th, family, embarke...</td>\n      <td>0.208958</td>\n      <td>Positive</td>\n    </tr>\n    <tr>\n      <th>2</th>\n      <td>I did not actually get to fly with BA as they...</td>\n      <td>I did not actually get to fly with BA as they...</td>\n      <td>[actually, get, fly, ba, cancelled, flight, 3,...</td>\n      <td>[actually, get, fly, ba, cancelled, flight, 3,...</td>\n      <td>0.266667</td>\n      <td>Positive</td>\n    </tr>\n    <tr>\n      <th>3</th>\n      <td>We had possibly the worse check-in experience...</td>\n      <td>We had possibly the worse check in experience...</td>\n      <td>[possibly, worse, check, experience, ever, eve...</td>\n      <td>[possibly, worse, check, experience, ever, eve...</td>\n      <td>0.043056</td>\n      <td>Neutral</td>\n    </tr>\n    <tr>\n      <th>4</th>\n      <td>I flew to LHR from ATH in Club Europe with B...</td>\n      <td>I flew to LHR from ATH in Club Europe with B...</td>\n      <td>[flew, lhr, ath, club, europe, ba641, dec, 31,...</td>\n      <td>[flew, lhr, ath, club, europe, ba641, dec, 31,...</td>\n      <td>0.208333</td>\n      <td>Positive</td>\n    </tr>\n  </tbody>\n</table>\n</div>"
     },
     "execution_count": 160,
     "metadata": {},
     "output_type": "execute_result"
    }
   ],
   "source": [
    "df.head()"
   ],
   "metadata": {
    "collapsed": false,
    "ExecuteTime": {
     "end_time": "2024-02-20T12:35:51.713639Z",
     "start_time": "2024-02-20T12:35:51.655799Z"
    }
   },
   "id": "93d9f018e93d1a46"
  },
  {
   "cell_type": "code",
   "execution_count": 161,
   "outputs": [],
   "source": [
    "import matplotlib.pyplot as plt \n",
    "%matplotlib inline"
   ],
   "metadata": {
    "collapsed": false,
    "ExecuteTime": {
     "end_time": "2024-02-20T12:36:51.588952Z",
     "start_time": "2024-02-20T12:36:51.266317Z"
    }
   },
   "id": "bb5c7dbc27a044ca"
  },
  {
   "cell_type": "code",
   "execution_count": 162,
   "outputs": [
    {
     "data": {
      "text/plain": "([<matplotlib.patches.Wedge at 0x13ab81a50>,\n  <matplotlib.patches.Wedge at 0x13bad9790>,\n  <matplotlib.patches.Wedge at 0x13bad8090>],\n [Text(0.2601489135374878, 1.0687949021141825, 'Positive'),\n  Text(-0.8979732157620716, -0.6353299172665523, 'Negative'),\n  Text(0.8296764509178302, -0.7222444093188909, 'Neutral')],\n [Text(0.14189940738408424, 0.5829790375168268, '42.4%'),\n  Text(-0.4898035722338572, -0.3465435912363012, '34.8%'),\n  Text(0.45255079140972543, -0.39395149599212226, '22.8%')])"
     },
     "execution_count": 162,
     "metadata": {},
     "output_type": "execute_result"
    },
    {
     "data": {
      "text/plain": "<Figure size 1000x500 with 1 Axes>",
      "image/png": "[encoded data removed]"
     },
     "metadata": {},
     "output_type": "display_data"
    }
   ],
   "source": [
    "plt.figure(figsize=(10,5))\n",
    "\n",
    "plt.pie(df['Analysis'].value_counts(), labels = df['Analysis'].value_counts().index, autopct='%1.1f%%')"
   ],
   "metadata": {
    "collapsed": false,
    "ExecuteTime": {
     "end_time": "2024-02-20T12:38:55.244521Z",
     "start_time": "2024-02-20T12:38:54.913896Z"
    }
   },
   "id": "e46e83db252c3b53"
  },
  {
   "cell_type": "code",
   "execution_count": null,
   "outputs": [],
   "source": [],
   "metadata": {
    "collapsed": false
   },
   "id": "cbb256feaed1dc58"
  }
 ],
 "metadata": {
  "kernelspec": {
   "display_name": "Python 3 (ipykernel)",
   "language": "python",
   "name": "python3"
  },
  "language_info": {
   "codemirror_mode": {
    "name": "ipython",
    "version": 3
   },
   "file_extension": ".py",
   "mimetype": "text/x-python",
   "name": "python",
   "nbconvert_exporter": "python",
   "pygments_lexer": "ipython3",
   "version": "3.11.5"
  }
 },
 "nbformat": 4,
 "nbformat_minor": 5
}
