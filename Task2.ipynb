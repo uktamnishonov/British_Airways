{
 "cells": [
  {
   "cell_type": "code",
   "execution_count": 1,
   "id": "initial_id",
   "metadata": {
    "collapsed": true,
    "ExecuteTime": {
     "end_time": "2024-02-20T12:56:47.893534Z",
     "start_time": "2024-02-20T12:56:47.890965Z"
    }
   },
   "outputs": [],
   "source": [
    "import numpy as np\n",
    "import matplotlib.pyplot as plt\n",
    "import pandas as pd\n",
    "import seaborn as sns"
   ]
  },
  {
   "cell_type": "code",
   "execution_count": 2,
   "outputs": [],
   "source": [
    "# Importing the dataset"
   ],
   "metadata": {
    "collapsed": false,
    "ExecuteTime": {
     "end_time": "2024-02-20T12:56:47.897948Z",
     "start_time": "2024-02-20T12:56:47.896680Z"
    }
   },
   "id": "b5d4cfa1e0ad49da"
  },
  {
   "cell_type": "code",
   "execution_count": 6,
   "outputs": [
    {
     "name": "stdout",
     "output_type": "stream",
     "text": [
      "{'encoding': 'ISO-8859-1', 'confidence': 0.73, 'language': ''}\n"
     ]
    }
   ],
   "source": [
    "import chardet\n",
    "\n",
    "with open('customer_booking.csv', 'rb') as rawdata:\n",
    "    result = chardet.detect(rawdata.read(100000))\n",
    "\n",
    "print(result)"
   ],
   "metadata": {
    "collapsed": false,
    "ExecuteTime": {
     "end_time": "2024-02-20T13:01:10.025795Z",
     "start_time": "2024-02-20T13:01:09.311624Z"
    }
   },
   "id": "28cd8b200fc76a29"
  },
  {
   "cell_type": "code",
   "execution_count": 7,
   "outputs": [],
   "source": [
    "df = pd.read_csv('customer_booking.csv', encoding='ISO-8859-1')"
   ],
   "metadata": {
    "collapsed": false,
    "ExecuteTime": {
     "end_time": "2024-02-20T13:01:41.546708Z",
     "start_time": "2024-02-20T13:01:41.457025Z"
    }
   },
   "id": "928b86dc7e6e9b6e"
  },
  {
   "cell_type": "markdown",
   "source": [
    "# Exploratory Data Analysis"
   ],
   "metadata": {
    "collapsed": false
   },
   "id": "6cbe7eb19b67efd7"
  },
  {
   "cell_type": "code",
   "execution_count": 8,
   "outputs": [
    {
     "data": {
      "text/plain": "   num_passengers sales_channel  trip_type  purchase_lead  length_of_stay  \\\n0               2      Internet  RoundTrip            262              19   \n1               1      Internet  RoundTrip            112              20   \n2               2      Internet  RoundTrip            243              22   \n3               1      Internet  RoundTrip             96              31   \n4               2      Internet  RoundTrip             68              22   \n\n   flight_hour flight_day   route booking_origin  wants_extra_baggage  \\\n0            7        Sat  AKLDEL    New Zealand                    1   \n1            3        Sat  AKLDEL    New Zealand                    0   \n2           17        Wed  AKLDEL          India                    1   \n3            4        Sat  AKLDEL    New Zealand                    0   \n4           15        Wed  AKLDEL          India                    1   \n\n   wants_preferred_seat  wants_in_flight_meals  flight_duration  \\\n0                     0                      0             5.52   \n1                     0                      0             5.52   \n2                     1                      0             5.52   \n3                     0                      1             5.52   \n4                     0                      1             5.52   \n\n   booking_complete  \n0                 0  \n1                 0  \n2                 0  \n3                 0  \n4                 0  ",
      "text/html": "<div>\n<style scoped>\n    .dataframe tbody tr th:only-of-type {\n        vertical-align: middle;\n    }\n\n    .dataframe tbody tr th {\n        vertical-align: top;\n    }\n\n    .dataframe thead th {\n        text-align: right;\n    }\n</style>\n<table border=\"1\" class=\"dataframe\">\n  <thead>\n    <tr style=\"text-align: right;\">\n      <th></th>\n      <th>num_passengers</th>\n      <th>sales_channel</th>\n      <th>trip_type</th>\n      <th>purchase_lead</th>\n      <th>length_of_stay</th>\n      <th>flight_hour</th>\n      <th>flight_day</th>\n      <th>route</th>\n      <th>booking_origin</th>\n      <th>wants_extra_baggage</th>\n      <th>wants_preferred_seat</th>\n      <th>wants_in_flight_meals</th>\n      <th>flight_duration</th>\n      <th>booking_complete</th>\n    </tr>\n  </thead>\n  <tbody>\n    <tr>\n      <th>0</th>\n      <td>2</td>\n      <td>Internet</td>\n      <td>RoundTrip</td>\n      <td>262</td>\n      <td>19</td>\n      <td>7</td>\n      <td>Sat</td>\n      <td>AKLDEL</td>\n      <td>New Zealand</td>\n      <td>1</td>\n      <td>0</td>\n      <td>0</td>\n      <td>5.52</td>\n      <td>0</td>\n    </tr>\n    <tr>\n      <th>1</th>\n      <td>1</td>\n      <td>Internet</td>\n      <td>RoundTrip</td>\n      <td>112</td>\n      <td>20</td>\n      <td>3</td>\n      <td>Sat</td>\n      <td>AKLDEL</td>\n      <td>New Zealand</td>\n      <td>0</td>\n      <td>0</td>\n      <td>0</td>\n      <td>5.52</td>\n      <td>0</td>\n    </tr>\n    <tr>\n      <th>2</th>\n      <td>2</td>\n      <td>Internet</td>\n      <td>RoundTrip</td>\n      <td>243</td>\n      <td>22</td>\n      <td>17</td>\n      <td>Wed</td>\n      <td>AKLDEL</td>\n      <td>India</td>\n      <td>1</td>\n      <td>1</td>\n      <td>0</td>\n      <td>5.52</td>\n      <td>0</td>\n    </tr>\n    <tr>\n      <th>3</th>\n      <td>1</td>\n      <td>Internet</td>\n      <td>RoundTrip</td>\n      <td>96</td>\n      <td>31</td>\n      <td>4</td>\n      <td>Sat</td>\n      <td>AKLDEL</td>\n      <td>New Zealand</td>\n      <td>0</td>\n      <td>0</td>\n      <td>1</td>\n      <td>5.52</td>\n      <td>0</td>\n    </tr>\n    <tr>\n      <th>4</th>\n      <td>2</td>\n      <td>Internet</td>\n      <td>RoundTrip</td>\n      <td>68</td>\n      <td>22</td>\n      <td>15</td>\n      <td>Wed</td>\n      <td>AKLDEL</td>\n      <td>India</td>\n      <td>1</td>\n      <td>0</td>\n      <td>1</td>\n      <td>5.52</td>\n      <td>0</td>\n    </tr>\n  </tbody>\n</table>\n</div>"
     },
     "execution_count": 8,
     "metadata": {},
     "output_type": "execute_result"
    }
   ],
   "source": [
    "df.head()"
   ],
   "metadata": {
    "collapsed": false,
    "ExecuteTime": {
     "end_time": "2024-02-20T13:01:43.569284Z",
     "start_time": "2024-02-20T13:01:43.551763Z"
    }
   },
   "id": "3a85d1560be45906"
  },
  {
   "cell_type": "code",
   "execution_count": 9,
   "outputs": [
    {
     "name": "stdout",
     "output_type": "stream",
     "text": [
      "<class 'pandas.core.frame.DataFrame'>\n",
      "RangeIndex: 50000 entries, 0 to 49999\n",
      "Data columns (total 14 columns):\n",
      " #   Column                 Non-Null Count  Dtype  \n",
      "---  ------                 --------------  -----  \n",
      " 0   num_passengers         50000 non-null  int64  \n",
      " 1   sales_channel          50000 non-null  object \n",
      " 2   trip_type              50000 non-null  object \n",
      " 3   purchase_lead          50000 non-null  int64  \n",
      " 4   length_of_stay         50000 non-null  int64  \n",
      " 5   flight_hour            50000 non-null  int64  \n",
      " 6   flight_day             50000 non-null  object \n",
      " 7   route                  50000 non-null  object \n",
      " 8   booking_origin         50000 non-null  object \n",
      " 9   wants_extra_baggage    50000 non-null  int64  \n",
      " 10  wants_preferred_seat   50000 non-null  int64  \n",
      " 11  wants_in_flight_meals  50000 non-null  int64  \n",
      " 12  flight_duration        50000 non-null  float64\n",
      " 13  booking_complete       50000 non-null  int64  \n",
      "dtypes: float64(1), int64(8), object(5)\n",
      "memory usage: 5.3+ MB\n"
     ]
    }
   ],
   "source": [
    "df.info()"
   ],
   "metadata": {
    "collapsed": false,
    "ExecuteTime": {
     "end_time": "2024-02-20T13:02:35.764571Z",
     "start_time": "2024-02-20T13:02:35.711502Z"
    }
   },
   "id": "494960d73854a135"
  },
  {
   "cell_type": "code",
   "execution_count": 10,
   "outputs": [
    {
     "data": {
      "text/plain": "       num_passengers  purchase_lead  length_of_stay  flight_hour  \\\ncount    50000.000000   50000.000000     50000.00000  50000.00000   \nmean         1.591240      84.940480        23.04456      9.06634   \nstd          1.020165      90.451378        33.88767      5.41266   \nmin          1.000000       0.000000         0.00000      0.00000   \n25%          1.000000      21.000000         5.00000      5.00000   \n50%          1.000000      51.000000        17.00000      9.00000   \n75%          2.000000     115.000000        28.00000     13.00000   \nmax          9.000000     867.000000       778.00000     23.00000   \n\n       wants_extra_baggage  wants_preferred_seat  wants_in_flight_meals  \\\ncount         50000.000000          50000.000000           50000.000000   \nmean              0.668780              0.296960               0.427140   \nstd               0.470657              0.456923               0.494668   \nmin               0.000000              0.000000               0.000000   \n25%               0.000000              0.000000               0.000000   \n50%               1.000000              0.000000               0.000000   \n75%               1.000000              1.000000               1.000000   \nmax               1.000000              1.000000               1.000000   \n\n       flight_duration  booking_complete  \ncount     50000.000000      50000.000000  \nmean          7.277561          0.149560  \nstd           1.496863          0.356643  \nmin           4.670000          0.000000  \n25%           5.620000          0.000000  \n50%           7.570000          0.000000  \n75%           8.830000          0.000000  \nmax           9.500000          1.000000  ",
      "text/html": "<div>\n<style scoped>\n    .dataframe tbody tr th:only-of-type {\n        vertical-align: middle;\n    }\n\n    .dataframe tbody tr th {\n        vertical-align: top;\n    }\n\n    .dataframe thead th {\n        text-align: right;\n    }\n</style>\n<table border=\"1\" class=\"dataframe\">\n  <thead>\n    <tr style=\"text-align: right;\">\n      <th></th>\n      <th>num_passengers</th>\n      <th>purchase_lead</th>\n      <th>length_of_stay</th>\n      <th>flight_hour</th>\n      <th>wants_extra_baggage</th>\n      <th>wants_preferred_seat</th>\n      <th>wants_in_flight_meals</th>\n      <th>flight_duration</th>\n      <th>booking_complete</th>\n    </tr>\n  </thead>\n  <tbody>\n    <tr>\n      <th>count</th>\n      <td>50000.000000</td>\n      <td>50000.000000</td>\n      <td>50000.00000</td>\n      <td>50000.00000</td>\n      <td>50000.000000</td>\n      <td>50000.000000</td>\n      <td>50000.000000</td>\n      <td>50000.000000</td>\n      <td>50000.000000</td>\n    </tr>\n    <tr>\n      <th>mean</th>\n      <td>1.591240</td>\n      <td>84.940480</td>\n      <td>23.04456</td>\n      <td>9.06634</td>\n      <td>0.668780</td>\n      <td>0.296960</td>\n      <td>0.427140</td>\n      <td>7.277561</td>\n      <td>0.149560</td>\n    </tr>\n    <tr>\n      <th>std</th>\n      <td>1.020165</td>\n      <td>90.451378</td>\n      <td>33.88767</td>\n      <td>5.41266</td>\n      <td>0.470657</td>\n      <td>0.456923</td>\n      <td>0.494668</td>\n      <td>1.496863</td>\n      <td>0.356643</td>\n    </tr>\n    <tr>\n      <th>min</th>\n      <td>1.000000</td>\n      <td>0.000000</td>\n      <td>0.00000</td>\n      <td>0.00000</td>\n      <td>0.000000</td>\n      <td>0.000000</td>\n      <td>0.000000</td>\n      <td>4.670000</td>\n      <td>0.000000</td>\n    </tr>\n    <tr>\n      <th>25%</th>\n      <td>1.000000</td>\n      <td>21.000000</td>\n      <td>5.00000</td>\n      <td>5.00000</td>\n      <td>0.000000</td>\n      <td>0.000000</td>\n      <td>0.000000</td>\n      <td>5.620000</td>\n      <td>0.000000</td>\n    </tr>\n    <tr>\n      <th>50%</th>\n      <td>1.000000</td>\n      <td>51.000000</td>\n      <td>17.00000</td>\n      <td>9.00000</td>\n      <td>1.000000</td>\n      <td>0.000000</td>\n      <td>0.000000</td>\n      <td>7.570000</td>\n      <td>0.000000</td>\n    </tr>\n    <tr>\n      <th>75%</th>\n      <td>2.000000</td>\n      <td>115.000000</td>\n      <td>28.00000</td>\n      <td>13.00000</td>\n      <td>1.000000</td>\n      <td>1.000000</td>\n      <td>1.000000</td>\n      <td>8.830000</td>\n      <td>0.000000</td>\n    </tr>\n    <tr>\n      <th>max</th>\n      <td>9.000000</td>\n      <td>867.000000</td>\n      <td>778.00000</td>\n      <td>23.00000</td>\n      <td>1.000000</td>\n      <td>1.000000</td>\n      <td>1.000000</td>\n      <td>9.500000</td>\n      <td>1.000000</td>\n    </tr>\n  </tbody>\n</table>\n</div>"
     },
     "execution_count": 10,
     "metadata": {},
     "output_type": "execute_result"
    }
   ],
   "source": [
    "df.describe()"
   ],
   "metadata": {
    "collapsed": false,
    "ExecuteTime": {
     "end_time": "2024-02-20T13:02:45.122336Z",
     "start_time": "2024-02-20T13:02:45.078316Z"
    }
   },
   "id": "fe16bb4046dc8e63"
  },
  {
   "cell_type": "code",
   "execution_count": 12,
   "outputs": [
    {
     "data": {
      "text/plain": "num_passengers           0\nsales_channel            0\ntrip_type                0\npurchase_lead            0\nlength_of_stay           0\nflight_hour              0\nflight_day               0\nroute                    0\nbooking_origin           0\nwants_extra_baggage      0\nwants_preferred_seat     0\nwants_in_flight_meals    0\nflight_duration          0\nbooking_complete         0\ndtype: int64"
     },
     "execution_count": 12,
     "metadata": {},
     "output_type": "execute_result"
    }
   ],
   "source": [
    "df.isnull().sum()"
   ],
   "metadata": {
    "collapsed": false,
    "ExecuteTime": {
     "end_time": "2024-02-20T13:32:52.556833Z",
     "start_time": "2024-02-20T13:32:52.522974Z"
    }
   },
   "id": "fb14e3c8954077a6"
  },
  {
   "cell_type": "code",
   "execution_count": 18,
   "outputs": [],
   "source": [
    "bought_via = pd.get_dummies(df['sales_channel'])"
   ],
   "metadata": {
    "collapsed": false,
    "ExecuteTime": {
     "end_time": "2024-02-20T13:35:37.902068Z",
     "start_time": "2024-02-20T13:35:37.857545Z"
    }
   },
   "id": "1f5457e9cc7e7bcc"
  },
  {
   "cell_type": "code",
   "execution_count": 15,
   "outputs": [
    {
     "data": {
      "text/plain": "sales_channel\nInternet    44382\nMobile       5618\nName: count, dtype: int64"
     },
     "execution_count": 15,
     "metadata": {},
     "output_type": "execute_result"
    }
   ],
   "source": [
    "df['sales_channel'].value_counts()"
   ],
   "metadata": {
    "collapsed": false,
    "ExecuteTime": {
     "end_time": "2024-02-20T13:34:05.719845Z",
     "start_time": "2024-02-20T13:34:05.688809Z"
    }
   },
   "id": "f10c4b21b3ab85e4"
  },
  {
   "cell_type": "code",
   "execution_count": 16,
   "outputs": [
    {
     "data": {
      "text/plain": "<Axes: xlabel='sales_channel'>"
     },
     "execution_count": 16,
     "metadata": {},
     "output_type": "execute_result"
    },
    {
     "data": {
      "text/plain": "<Figure size 640x480 with 1 Axes>",
      "image/png": "[encoded data removed]"
     },
     "metadata": {},
     "output_type": "display_data"
    }
   ],
   "source": [
    "df['sales_channel'].value_counts().plot(kind='bar')"
   ],
   "metadata": {
    "collapsed": false,
    "ExecuteTime": {
     "end_time": "2024-02-20T13:34:13.655221Z",
     "start_time": "2024-02-20T13:34:13.387044Z"
    }
   },
   "id": "b344629de18fbe02"
  },
  {
   "cell_type": "code",
   "execution_count": 19,
   "outputs": [],
   "source": [
    "df = pd.concat([df, bought_via], axis=1)"
   ],
   "metadata": {
    "collapsed": false,
    "ExecuteTime": {
     "end_time": "2024-02-20T13:36:29.243833Z",
     "start_time": "2024-02-20T13:36:29.213614Z"
    }
   },
   "id": "4aa1cc0262a85e9f"
  },
  {
   "cell_type": "code",
   "execution_count": 20,
   "outputs": [
    {
     "data": {
      "text/plain": "   num_passengers sales_channel  trip_type  purchase_lead  length_of_stay  \\\n0               2      Internet  RoundTrip            262              19   \n1               1      Internet  RoundTrip            112              20   \n2               2      Internet  RoundTrip            243              22   \n3               1      Internet  RoundTrip             96              31   \n4               2      Internet  RoundTrip             68              22   \n\n   flight_hour flight_day   route booking_origin  wants_extra_baggage  \\\n0            7        Sat  AKLDEL    New Zealand                    1   \n1            3        Sat  AKLDEL    New Zealand                    0   \n2           17        Wed  AKLDEL          India                    1   \n3            4        Sat  AKLDEL    New Zealand                    0   \n4           15        Wed  AKLDEL          India                    1   \n\n   wants_preferred_seat  wants_in_flight_meals  flight_duration  \\\n0                     0                      0             5.52   \n1                     0                      0             5.52   \n2                     1                      0             5.52   \n3                     0                      1             5.52   \n4                     0                      1             5.52   \n\n   booking_complete  Internet  Mobile  \n0                 0      True   False  \n1                 0      True   False  \n2                 0      True   False  \n3                 0      True   False  \n4                 0      True   False  ",
      "text/html": "<div>\n<style scoped>\n    .dataframe tbody tr th:only-of-type {\n        vertical-align: middle;\n    }\n\n    .dataframe tbody tr th {\n        vertical-align: top;\n    }\n\n    .dataframe thead th {\n        text-align: right;\n    }\n</style>\n<table border=\"1\" class=\"dataframe\">\n  <thead>\n    <tr style=\"text-align: right;\">\n      <th></th>\n      <th>num_passengers</th>\n      <th>sales_channel</th>\n      <th>trip_type</th>\n      <th>purchase_lead</th>\n      <th>length_of_stay</th>\n      <th>flight_hour</th>\n      <th>flight_day</th>\n      <th>route</th>\n      <th>booking_origin</th>\n      <th>wants_extra_baggage</th>\n      <th>wants_preferred_seat</th>\n      <th>wants_in_flight_meals</th>\n      <th>flight_duration</th>\n      <th>booking_complete</th>\n      <th>Internet</th>\n      <th>Mobile</th>\n    </tr>\n  </thead>\n  <tbody>\n    <tr>\n      <th>0</th>\n      <td>2</td>\n      <td>Internet</td>\n      <td>RoundTrip</td>\n      <td>262</td>\n      <td>19</td>\n      <td>7</td>\n      <td>Sat</td>\n      <td>AKLDEL</td>\n      <td>New Zealand</td>\n      <td>1</td>\n      <td>0</td>\n      <td>0</td>\n      <td>5.52</td>\n      <td>0</td>\n      <td>True</td>\n      <td>False</td>\n    </tr>\n    <tr>\n      <th>1</th>\n      <td>1</td>\n      <td>Internet</td>\n      <td>RoundTrip</td>\n      <td>112</td>\n      <td>20</td>\n      <td>3</td>\n      <td>Sat</td>\n      <td>AKLDEL</td>\n      <td>New Zealand</td>\n      <td>0</td>\n      <td>0</td>\n      <td>0</td>\n      <td>5.52</td>\n      <td>0</td>\n      <td>True</td>\n      <td>False</td>\n    </tr>\n    <tr>\n      <th>2</th>\n      <td>2</td>\n      <td>Internet</td>\n      <td>RoundTrip</td>\n      <td>243</td>\n      <td>22</td>\n      <td>17</td>\n      <td>Wed</td>\n      <td>AKLDEL</td>\n      <td>India</td>\n      <td>1</td>\n      <td>1</td>\n      <td>0</td>\n      <td>5.52</td>\n      <td>0</td>\n      <td>True</td>\n      <td>False</td>\n    </tr>\n    <tr>\n      <th>3</th>\n      <td>1</td>\n      <td>Internet</td>\n      <td>RoundTrip</td>\n      <td>96</td>\n      <td>31</td>\n      <td>4</td>\n      <td>Sat</td>\n      <td>AKLDEL</td>\n      <td>New Zealand</td>\n      <td>0</td>\n      <td>0</td>\n      <td>1</td>\n      <td>5.52</td>\n      <td>0</td>\n      <td>True</td>\n      <td>False</td>\n    </tr>\n    <tr>\n      <th>4</th>\n      <td>2</td>\n      <td>Internet</td>\n      <td>RoundTrip</td>\n      <td>68</td>\n      <td>22</td>\n      <td>15</td>\n      <td>Wed</td>\n      <td>AKLDEL</td>\n      <td>India</td>\n      <td>1</td>\n      <td>0</td>\n      <td>1</td>\n      <td>5.52</td>\n      <td>0</td>\n      <td>True</td>\n      <td>False</td>\n    </tr>\n  </tbody>\n</table>\n</div>"
     },
     "execution_count": 20,
     "metadata": {},
     "output_type": "execute_result"
    }
   ],
   "source": [
    "df.head()"
   ],
   "metadata": {
    "collapsed": false,
    "ExecuteTime": {
     "end_time": "2024-02-20T13:36:33.272321Z",
     "start_time": "2024-02-20T13:36:33.261552Z"
    }
   },
   "id": "c2553257f0bc5e28"
  },
  {
   "cell_type": "code",
   "execution_count": 21,
   "outputs": [],
   "source": [
    "df.drop(['sales_channel'], axis=1, inplace=True)"
   ],
   "metadata": {
    "collapsed": false,
    "ExecuteTime": {
     "end_time": "2024-02-20T13:38:33.414857Z",
     "start_time": "2024-02-20T13:38:33.364268Z"
    }
   },
   "id": "ade4a92b6b67478e"
  },
  {
   "cell_type": "code",
   "execution_count": 22,
   "outputs": [
    {
     "data": {
      "text/plain": "booking_origin\nAustralia               17872\nMalaysia                 7174\nSouth Korea              4559\nJapan                    3885\nChina                    3387\n                        ...  \nPanama                      1\nTonga                       1\nTanzania                    1\nBulgaria                    1\nSvalbard & Jan Mayen        1\nName: count, Length: 104, dtype: int64"
     },
     "execution_count": 22,
     "metadata": {},
     "output_type": "execute_result"
    }
   ],
   "source": [
    "df['booking_origin'].value_counts()"
   ],
   "metadata": {
    "collapsed": false,
    "ExecuteTime": {
     "end_time": "2024-02-20T13:39:05.808148Z",
     "start_time": "2024-02-20T13:39:05.780353Z"
    }
   },
   "id": "57dcbf856520942a"
  },
  {
   "cell_type": "code",
   "execution_count": 26,
   "outputs": [
    {
     "data": {
      "text/plain": "route\nAKLKUL    2680\nPENTPE     924\nMELSGN     842\nICNSIN     801\nDMKKIX     744\n          ... \nLBUTPE       1\nCXRMEL       1\nDELKBR       1\nKOSSYD       1\nMRUXIY       1\nName: count, Length: 799, dtype: int64"
     },
     "execution_count": 26,
     "metadata": {},
     "output_type": "execute_result"
    }
   ],
   "source": [
    "df['route'].value_counts()"
   ],
   "metadata": {
    "collapsed": false,
    "ExecuteTime": {
     "end_time": "2024-02-20T13:41:13.460135Z",
     "start_time": "2024-02-20T13:41:13.415374Z"
    }
   },
   "id": "9f7c1102abc01b32"
  },
  {
   "cell_type": "code",
   "execution_count": 27,
   "outputs": [],
   "source": [
    "X= df.drop('booking_complete',axis=1)\n",
    "y= df.booking_complete\n",
    "\n",
    "#changing object dtype to int dtype\n",
    "for colname in X.select_dtypes(\"object\"):\n",
    "    X[colname], _ = X[colname].factorize()"
   ],
   "metadata": {
    "collapsed": false,
    "ExecuteTime": {
     "end_time": "2024-02-20T13:50:26.497060Z",
     "start_time": "2024-02-20T13:50:26.436950Z"
    }
   },
   "id": "132ed905eb025e72"
  },
  {
   "cell_type": "code",
   "execution_count": 28,
   "outputs": [
    {
     "data": {
      "text/plain": "num_passengers             int64\ntrip_type                  int64\npurchase_lead              int64\nlength_of_stay             int64\nflight_hour                int64\nflight_day                 int64\nroute                      int64\nbooking_origin             int64\nwants_extra_baggage        int64\nwants_preferred_seat       int64\nwants_in_flight_meals      int64\nflight_duration          float64\nInternet                    bool\nMobile                      bool\ndtype: object"
     },
     "execution_count": 28,
     "metadata": {},
     "output_type": "execute_result"
    }
   ],
   "source": [
    "X.dtypes"
   ],
   "metadata": {
    "collapsed": false,
    "ExecuteTime": {
     "end_time": "2024-02-20T13:50:40.056940Z",
     "start_time": "2024-02-20T13:50:40.017618Z"
    }
   },
   "id": "7df8e7fc51b53526"
  },
  {
   "cell_type": "code",
   "execution_count": 29,
   "outputs": [
    {
     "data": {
      "text/plain": "route                    0.053881\nbooking_origin           0.045450\nflight_duration          0.017721\nwants_extra_baggage      0.010945\nlength_of_stay           0.007768\nInternet                 0.007503\nwants_in_flight_meals    0.004937\nnum_passengers           0.004559\nMobile                   0.002275\nwants_preferred_seat     0.001848\nflight_hour              0.001634\npurchase_lead            0.001490\ntrip_type                0.001302\nflight_day               0.001165\nName: MI Scores, dtype: float64"
     },
     "execution_count": 29,
     "metadata": {},
     "output_type": "execute_result"
    }
   ],
   "source": [
    "from sklearn.feature_selection import mutual_info_classif\n",
    "\n",
    "mi_scores = mutual_info_classif(X, y)\n",
    "mi_scores = pd.Series(mi_scores, name=\"MI Scores\", index=X.columns)\n",
    "mi_scores = mi_scores.sort_values(ascending=False)\n",
    "\n",
    "mi_scores # show a few features with their MI scores"
   ],
   "metadata": {
    "collapsed": false,
    "ExecuteTime": {
     "end_time": "2024-02-20T13:50:58.340325Z",
     "start_time": "2024-02-20T13:50:52.893800Z"
    }
   },
   "id": "3109f37dcd14b031"
  },
  {
   "cell_type": "code",
   "execution_count": 30,
   "outputs": [
    {
     "data": {
      "text/plain": "<Figure size 800x500 with 1 Axes>",
      "image/png": "[encoded data removed]"
     },
     "metadata": {},
     "output_type": "display_data"
    }
   ],
   "source": [
    "def plot_mi_scores(scores):\n",
    "    scores = scores.sort_values(ascending=True)\n",
    "    width = np.arange(len(scores))\n",
    "    ticks = list(scores.index)\n",
    "    plt.barh(width, scores)\n",
    "    plt.yticks(width, ticks)\n",
    "    plt.title(\"Mutual Information Scores\")\n",
    "\n",
    "\n",
    "plt.figure(dpi=100, figsize=(8, 5))\n",
    "plot_mi_scores(mi_scores)"
   ],
   "metadata": {
    "collapsed": false,
    "ExecuteTime": {
     "end_time": "2024-02-20T13:51:08.189060Z",
     "start_time": "2024-02-20T13:51:07.848728Z"
    }
   },
   "id": "bca7c9097521e9a"
  },
  {
   "cell_type": "markdown",
   "source": [
    "# Top 5 features with the highest MI scores are: \n",
    "# route \n",
    "# booking_origin \n",
    "# sales_channel\n",
    "# booking_date\n",
    "# booking_time"
   ],
   "metadata": {
    "collapsed": false
   },
   "id": "2da1542e506d5f48"
  },
  {
   "cell_type": "markdown",
   "source": [
    "# Splitting the dataset into the Training set and Test set"
   ],
   "metadata": {
    "collapsed": false
   },
   "id": "d84f96c2dcead0ce"
  },
  {
   "cell_type": "code",
   "execution_count": 31,
   "outputs": [],
   "source": [
    "from sklearn.model_selection import train_test_split\n",
    "\n",
    "# given above\n",
    "#X= df.drop('booking_complete',axis=1)\n",
    "#y= df.booking_complete\n",
    "\n",
    "X_train, X_test, y_train, y_test = train_test_split(X, y, test_size=0.3, random_state=101)"
   ],
   "metadata": {
    "collapsed": false,
    "ExecuteTime": {
     "end_time": "2024-02-20T13:54:09.507066Z",
     "start_time": "2024-02-20T13:54:09.457770Z"
    }
   },
   "id": "22fcfabfd5d9b939"
  },
  {
   "cell_type": "code",
   "execution_count": 32,
   "outputs": [],
   "source": [
    "# Feature Scaling"
   ],
   "metadata": {
    "collapsed": false,
    "ExecuteTime": {
     "end_time": "2024-02-20T13:54:13.317534Z",
     "start_time": "2024-02-20T13:54:13.288089Z"
    }
   },
   "id": "2f93fc5cb00ff645"
  },
  {
   "cell_type": "code",
   "execution_count": 33,
   "outputs": [],
   "source": [
    "from sklearn.preprocessing import MinMaxScaler\n",
    "scaler = MinMaxScaler()"
   ],
   "metadata": {
    "collapsed": false,
    "ExecuteTime": {
     "end_time": "2024-02-20T13:55:38.926275Z",
     "start_time": "2024-02-20T13:55:38.896611Z"
    }
   },
   "id": "84c16221ba6c39af"
  },
  {
   "cell_type": "code",
   "execution_count": 34,
   "outputs": [],
   "source": [
    "X_train = scaler.fit_transform(X_train)\n",
    "X_test = scaler.transform(X_test)"
   ],
   "metadata": {
    "collapsed": false,
    "ExecuteTime": {
     "end_time": "2024-02-20T13:57:13.493690Z",
     "start_time": "2024-02-20T13:57:13.445700Z"
    }
   },
   "id": "dbc71afe6913e6ca"
  },
  {
   "cell_type": "code",
   "execution_count": 35,
   "outputs": [],
   "source": [
    "from sklearn.metrics import roc_auc_score\n",
    "from sklearn.metrics import accuracy_score\n",
    "from xgboost import XGBClassifier"
   ],
   "metadata": {
    "collapsed": false,
    "ExecuteTime": {
     "end_time": "2024-02-20T14:01:38.730033Z",
     "start_time": "2024-02-20T14:01:38.331722Z"
    }
   },
   "id": "156fdcf33e71d77e"
  },
  {
   "cell_type": "code",
   "execution_count": 36,
   "outputs": [],
   "source": [
    "model = XGBClassifier() "
   ],
   "metadata": {
    "collapsed": false,
    "ExecuteTime": {
     "end_time": "2024-02-20T14:01:45.401185Z",
     "start_time": "2024-02-20T14:01:45.364857Z"
    }
   },
   "id": "9c2547934649a894"
  },
  {
   "cell_type": "markdown",
   "source": [
    "# Here we fit the model only with top 5 features"
   ],
   "metadata": {
    "collapsed": false
   },
   "id": "6b03b2308705894d"
  },
  {
   "cell_type": "code",
   "execution_count": 46,
   "outputs": [],
   "source": [
    "# def scale(X):\n",
    "#     scaler = MinMaxScaler()\n",
    "#     X = scaler.fit(X)\n",
    "#     return X"
   ],
   "metadata": {
    "collapsed": false,
    "ExecuteTime": {
     "end_time": "2024-02-20T14:08:45.361821Z",
     "start_time": "2024-02-20T14:08:45.311144Z"
    }
   },
   "id": "ec11339dc1bbbfca"
  },
  {
   "cell_type": "code",
   "execution_count": 43,
   "outputs": [
    {
     "data": {
      "text/plain": "XGBClassifier(base_score=None, booster=None, callbacks=None,\n              colsample_bylevel=None, colsample_bynode=None,\n              colsample_bytree=None, device=None, early_stopping_rounds=None,\n              enable_categorical=False, eval_metric=None, feature_types=None,\n              gamma=None, grow_policy=None, importance_type=None,\n              interaction_constraints=None, learning_rate=None, max_bin=None,\n              max_cat_threshold=None, max_cat_to_onehot=None,\n              max_delta_step=None, max_depth=None, max_leaves=None,\n              min_child_weight=None, missing=nan, monotone_constraints=None,\n              multi_strategy=None, n_estimators=None, n_jobs=None,\n              num_parallel_tree=None, random_state=None, ...)",
      "text/html": "<style>#sk-container-id-1 {color: black;}#sk-container-id-1 pre{padding: 0;}#sk-container-id-1 div.sk-toggleable {background-color: white;}#sk-container-id-1 label.sk-toggleable__label {cursor: pointer;display: block;width: 100%;margin-bottom: 0;padding: 0.3em;box-sizing: border-box;text-align: center;}#sk-container-id-1 label.sk-toggleable__label-arrow:before {content: \"▸\";float: left;margin-right: 0.25em;color: #696969;}#sk-container-id-1 label.sk-toggleable__label-arrow:hover:before {color: black;}#sk-container-id-1 div.sk-estimator:hover label.sk-toggleable__label-arrow:before {color: black;}#sk-container-id-1 div.sk-toggleable__content {max-height: 0;max-width: 0;overflow: hidden;text-align: left;background-color: #f0f8ff;}#sk-container-id-1 div.sk-toggleable__content pre {margin: 0.2em;color: black;border-radius: 0.25em;background-color: #f0f8ff;}#sk-container-id-1 input.sk-toggleable__control:checked~div.sk-toggleable__content {max-height: 200px;max-width: 100%;overflow: auto;}#sk-container-id-1 input.sk-toggleable__control:checked~label.sk-toggleable__label-arrow:before {content: \"▾\";}#sk-container-id-1 div.sk-estimator input.sk-toggleable__control:checked~label.sk-toggleable__label {background-color: #d4ebff;}#sk-container-id-1 div.sk-label input.sk-toggleable__control:checked~label.sk-toggleable__label {background-color: #d4ebff;}#sk-container-id-1 input.sk-hidden--visually {border: 0;clip: rect(1px 1px 1px 1px);clip: rect(1px, 1px, 1px, 1px);height: 1px;margin: -1px;overflow: hidden;padding: 0;position: absolute;width: 1px;}#sk-container-id-1 div.sk-estimator {font-family: monospace;background-color: #f0f8ff;border: 1px dotted black;border-radius: 0.25em;box-sizing: border-box;margin-bottom: 0.5em;}#sk-container-id-1 div.sk-estimator:hover {background-color: #d4ebff;}#sk-container-id-1 div.sk-parallel-item::after {content: \"\";width: 100%;border-bottom: 1px solid gray;flex-grow: 1;}#sk-container-id-1 div.sk-label:hover label.sk-toggleable__label {background-color: #d4ebff;}#sk-container-id-1 div.sk-serial::before {content: \"\";position: absolute;border-left: 1px solid gray;box-sizing: border-box;top: 0;bottom: 0;left: 50%;z-index: 0;}#sk-container-id-1 div.sk-serial {display: flex;flex-direction: column;align-items: center;background-color: white;padding-right: 0.2em;padding-left: 0.2em;position: relative;}#sk-container-id-1 div.sk-item {position: relative;z-index: 1;}#sk-container-id-1 div.sk-parallel {display: flex;align-items: stretch;justify-content: center;background-color: white;position: relative;}#sk-container-id-1 div.sk-item::before, #sk-container-id-1 div.sk-parallel-item::before {content: \"\";position: absolute;border-left: 1px solid gray;box-sizing: border-box;top: 0;bottom: 0;left: 50%;z-index: -1;}#sk-container-id-1 div.sk-parallel-item {display: flex;flex-direction: column;z-index: 1;position: relative;background-color: white;}#sk-container-id-1 div.sk-parallel-item:first-child::after {align-self: flex-end;width: 50%;}#sk-container-id-1 div.sk-parallel-item:last-child::after {align-self: flex-start;width: 50%;}#sk-container-id-1 div.sk-parallel-item:only-child::after {width: 0;}#sk-container-id-1 div.sk-dashed-wrapped {border: 1px dashed gray;margin: 0 0.4em 0.5em 0.4em;box-sizing: border-box;padding-bottom: 0.4em;background-color: white;}#sk-container-id-1 div.sk-label label {font-family: monospace;font-weight: bold;display: inline-block;line-height: 1.2em;}#sk-container-id-1 div.sk-label-container {text-align: center;}#sk-container-id-1 div.sk-container {/* jupyter's `normalize.less` sets `[hidden] { display: none; }` but bootstrap.min.css set `[hidden] { display: none !important; }` so we also need the `!important` here to be able to override the default hidden behavior on the sphinx rendered scikit-learn.org. See: https://github.com/scikit-learn/scikit-learn/issues/21755 */display: inline-block !important;position: relative;}#sk-container-id-1 div.sk-text-repr-fallback {display: none;}</style><div id=\"sk-container-id-1\" class=\"sk-top-container\"><div class=\"sk-text-repr-fallback\"><pre>XGBClassifier(base_score=None, booster=None, callbacks=None,\n              colsample_bylevel=None, colsample_bynode=None,\n              colsample_bytree=None, device=None, early_stopping_rounds=None,\n              enable_categorical=False, eval_metric=None, feature_types=None,\n              gamma=None, grow_policy=None, importance_type=None,\n              interaction_constraints=None, learning_rate=None, max_bin=None,\n              max_cat_threshold=None, max_cat_to_onehot=None,\n              max_delta_step=None, max_depth=None, max_leaves=None,\n              min_child_weight=None, missing=nan, monotone_constraints=None,\n              multi_strategy=None, n_estimators=None, n_jobs=None,\n              num_parallel_tree=None, random_state=None, ...)</pre><b>In a Jupyter environment, please rerun this cell to show the HTML representation or trust the notebook. <br />On GitHub, the HTML representation is unable to render, please try loading this page with nbviewer.org.</b></div><div class=\"sk-container\" hidden><div class=\"sk-item\"><div class=\"sk-estimator sk-toggleable\"><input class=\"sk-toggleable__control sk-hidden--visually\" id=\"sk-estimator-id-1\" type=\"checkbox\" checked><label for=\"sk-estimator-id-1\" class=\"sk-toggleable__label sk-toggleable__label-arrow\">XGBClassifier</label><div class=\"sk-toggleable__content\"><pre>XGBClassifier(base_score=None, booster=None, callbacks=None,\n              colsample_bylevel=None, colsample_bynode=None,\n              colsample_bytree=None, device=None, early_stopping_rounds=None,\n              enable_categorical=False, eval_metric=None, feature_types=None,\n              gamma=None, grow_policy=None, importance_type=None,\n              interaction_constraints=None, learning_rate=None, max_bin=None,\n              max_cat_threshold=None, max_cat_to_onehot=None,\n              max_delta_step=None, max_depth=None, max_leaves=None,\n              min_child_weight=None, missing=nan, monotone_constraints=None,\n              multi_strategy=None, n_estimators=None, n_jobs=None,\n              num_parallel_tree=None, random_state=None, ...)</pre></div></div></div></div></div>"
     },
     "execution_count": 43,
     "metadata": {},
     "output_type": "execute_result"
    }
   ],
   "source": [
    "model.fit(X_train, y_train)"
   ],
   "metadata": {
    "collapsed": false,
    "ExecuteTime": {
     "end_time": "2024-02-20T14:06:51.733427Z",
     "start_time": "2024-02-20T14:06:51.446263Z"
    }
   },
   "id": "7462a72ebfbe7347"
  },
  {
   "cell_type": "code",
   "execution_count": 44,
   "outputs": [],
   "source": [
    "predictions = model.predict(X_test)"
   ],
   "metadata": {
    "collapsed": false,
    "ExecuteTime": {
     "end_time": "2024-02-20T14:07:15.352452Z",
     "start_time": "2024-02-20T14:07:15.295095Z"
    }
   },
   "id": "3bf5fab57cb3d74d"
  },
  {
   "cell_type": "code",
   "execution_count": 45,
   "outputs": [
    {
     "name": "stdout",
     "output_type": "stream",
     "text": [
      "ACCURACY:  84.93333333333334\n",
      "AUC score:  0.5508935501753384\n"
     ]
    }
   ],
   "source": [
    "print('ACCURACY: ',accuracy_score(y_test, predictions)*100)\n",
    "print('AUC score: ',roc_auc_score(y_test,predictions))"
   ],
   "metadata": {
    "collapsed": false,
    "ExecuteTime": {
     "end_time": "2024-02-20T14:07:45.061576Z",
     "start_time": "2024-02-20T14:07:45.008802Z"
    }
   },
   "id": "44db56932888aeb"
  },
  {
   "cell_type": "markdown",
   "source": [
    "# Thank you"
   ],
   "metadata": {
    "collapsed": false
   },
   "id": "7cc9f0044163c124"
  },
  {
   "cell_type": "code",
   "execution_count": null,
   "outputs": [],
   "source": [],
   "metadata": {
    "collapsed": false
   },
   "id": "d68b6b035deca0fb"
  }
 ],
 "metadata": {
  "kernelspec": {
   "display_name": "Python 3",
   "language": "python",
   "name": "python3"
  },
  "language_info": {
   "codemirror_mode": {
    "name": "ipython",
    "version": 2
   },
   "file_extension": ".py",
   "mimetype": "text/x-python",
   "name": "python",
   "nbconvert_exporter": "python",
   "pygments_lexer": "ipython2",
   "version": "2.7.6"
  }
 },
 "nbformat": 4,
 "nbformat_minor": 5
}
